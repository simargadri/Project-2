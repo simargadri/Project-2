{
 "cells": [
  {
   "cell_type": "code",
   "execution_count": 3,
   "metadata": {},
   "outputs": [],
   "source": [
    "import os\n",
    "import pandas as pd\n",
    "import panel as pn\n",
    "pn.extension('plotly')\n",
    "import plotly.express as px\n",
    "import hvplot.pandas\n",
    "import matplotlib.pyplot as plt\n",
    "from panel.interact import interact\n",
    "from panel import widgets\n",
    "from pathlib import Path\n",
    "import seaborn as sns\n",
    "%matplotlib inline"
   ]
  },
  {
   "cell_type": "code",
   "execution_count": 11,
   "metadata": {},
   "outputs": [
    {
     "data": {
      "text/html": [
       "<div>\n",
       "<style scoped>\n",
       "    .dataframe tbody tr th:only-of-type {\n",
       "        vertical-align: middle;\n",
       "    }\n",
       "\n",
       "    .dataframe tbody tr th {\n",
       "        vertical-align: top;\n",
       "    }\n",
       "\n",
       "    .dataframe thead th {\n",
       "        text-align: right;\n",
       "    }\n",
       "</style>\n",
       "<table border=\"1\" class=\"dataframe\">\n",
       "  <thead>\n",
       "    <tr style=\"text-align: right;\">\n",
       "      <th></th>\n",
       "      <th>twitter_neg</th>\n",
       "      <th>twitter_neu</th>\n",
       "      <th>twitter_pos</th>\n",
       "    </tr>\n",
       "  </thead>\n",
       "  <tbody>\n",
       "    <tr>\n",
       "      <th>0</th>\n",
       "      <td>0.000</td>\n",
       "      <td>1.000</td>\n",
       "      <td>0.000</td>\n",
       "    </tr>\n",
       "    <tr>\n",
       "      <th>1</th>\n",
       "      <td>0.082</td>\n",
       "      <td>0.918</td>\n",
       "      <td>0.000</td>\n",
       "    </tr>\n",
       "    <tr>\n",
       "      <th>2</th>\n",
       "      <td>0.000</td>\n",
       "      <td>1.000</td>\n",
       "      <td>0.000</td>\n",
       "    </tr>\n",
       "    <tr>\n",
       "      <th>3</th>\n",
       "      <td>0.000</td>\n",
       "      <td>0.712</td>\n",
       "      <td>0.288</td>\n",
       "    </tr>\n",
       "    <tr>\n",
       "      <th>4</th>\n",
       "      <td>0.000</td>\n",
       "      <td>1.000</td>\n",
       "      <td>0.000</td>\n",
       "    </tr>\n",
       "  </tbody>\n",
       "</table>\n",
       "</div>"
      ],
      "text/plain": [
       "   twitter_neg  twitter_neu  twitter_pos\n",
       "0        0.000        1.000        0.000\n",
       "1        0.082        0.918        0.000\n",
       "2        0.000        1.000        0.000\n",
       "3        0.000        0.712        0.288\n",
       "4        0.000        1.000        0.000"
      ]
     },
     "execution_count": 11,
     "metadata": {},
     "output_type": "execute_result"
    }
   ],
   "source": [
    "file_path = Path(\"shop_vader.csv\")\n",
    "twitter_shop = pd.read_csv(file_path, index_col = \"Unnamed: 0\" )\n",
    "twitter_shop.rename(columns = {\"neg\":\"twitter_neg\", \"neu\":\"twitter_neu\", \"pos\":\"twitter_pos\"}, inplace = True)\n",
    "twitter_shop.dropna(inplace = True)\n",
    "cols = [\"twitter_neg\", \"twitter_neu\", \"twitter_pos\"]\n",
    "twitter_shop = twitter_shop[cols]\n",
    "twitter_shop.head()"
   ]
  },
  {
   "cell_type": "code",
   "execution_count": 14,
   "metadata": {},
   "outputs": [
    {
     "data": {
      "text/html": [
       "<div>\n",
       "<style scoped>\n",
       "    .dataframe tbody tr th:only-of-type {\n",
       "        vertical-align: middle;\n",
       "    }\n",
       "\n",
       "    .dataframe tbody tr th {\n",
       "        vertical-align: top;\n",
       "    }\n",
       "\n",
       "    .dataframe thead th {\n",
       "        text-align: right;\n",
       "    }\n",
       "</style>\n",
       "<table border=\"1\" class=\"dataframe\">\n",
       "  <thead>\n",
       "    <tr style=\"text-align: right;\">\n",
       "      <th></th>\n",
       "      <th>news_neg</th>\n",
       "      <th>news_neu</th>\n",
       "      <th>news_pos</th>\n",
       "    </tr>\n",
       "  </thead>\n",
       "  <tbody>\n",
       "    <tr>\n",
       "      <th>0</th>\n",
       "      <td>0.000</td>\n",
       "      <td>0.760</td>\n",
       "      <td>0.240</td>\n",
       "    </tr>\n",
       "    <tr>\n",
       "      <th>1</th>\n",
       "      <td>0.056</td>\n",
       "      <td>0.849</td>\n",
       "      <td>0.095</td>\n",
       "    </tr>\n",
       "    <tr>\n",
       "      <th>2</th>\n",
       "      <td>0.000</td>\n",
       "      <td>0.839</td>\n",
       "      <td>0.161</td>\n",
       "    </tr>\n",
       "    <tr>\n",
       "      <th>3</th>\n",
       "      <td>0.000</td>\n",
       "      <td>1.000</td>\n",
       "      <td>0.000</td>\n",
       "    </tr>\n",
       "    <tr>\n",
       "      <th>4</th>\n",
       "      <td>0.000</td>\n",
       "      <td>1.000</td>\n",
       "      <td>0.000</td>\n",
       "    </tr>\n",
       "  </tbody>\n",
       "</table>\n",
       "</div>"
      ],
      "text/plain": [
       "   news_neg  news_neu  news_pos\n",
       "0     0.000     0.760     0.240\n",
       "1     0.056     0.849     0.095\n",
       "2     0.000     0.839     0.161\n",
       "3     0.000     1.000     0.000\n",
       "4     0.000     1.000     0.000"
      ]
     },
     "execution_count": 14,
     "metadata": {},
     "output_type": "execute_result"
    }
   ],
   "source": [
    "file_path = Path(\"shopify.csv\")\n",
    "news_shop = pd.read_csv(file_path)\n",
    "news_shop.rename(columns = {\"negative\":\"news_neg\", \"neutral\":\"news_neu\", \"positive\":\"news_pos\"}, inplace = True)\n",
    "cols = [\"news_neg\", \"news_neu\", \"news_pos\"]\n",
    "news_shop = news_shop[cols]\n",
    "news_shop.sort_index(ascending = True, inplace = True)\n",
    "news_shop.head()"
   ]
  },
  {
   "cell_type": "code",
   "execution_count": 15,
   "metadata": {},
   "outputs": [
    {
     "data": {
      "text/html": [
       "<div>\n",
       "<style scoped>\n",
       "    .dataframe tbody tr th:only-of-type {\n",
       "        vertical-align: middle;\n",
       "    }\n",
       "\n",
       "    .dataframe tbody tr th {\n",
       "        vertical-align: top;\n",
       "    }\n",
       "\n",
       "    .dataframe thead th {\n",
       "        text-align: right;\n",
       "    }\n",
       "</style>\n",
       "<table border=\"1\" class=\"dataframe\">\n",
       "  <thead>\n",
       "    <tr style=\"text-align: right;\">\n",
       "      <th></th>\n",
       "      <th>twitter_neg</th>\n",
       "      <th>twitter_neu</th>\n",
       "      <th>twitter_pos</th>\n",
       "      <th>news_neg</th>\n",
       "      <th>news_neu</th>\n",
       "      <th>news_pos</th>\n",
       "    </tr>\n",
       "  </thead>\n",
       "  <tbody>\n",
       "    <tr>\n",
       "      <th>0</th>\n",
       "      <td>0.000</td>\n",
       "      <td>1.000</td>\n",
       "      <td>0.000</td>\n",
       "      <td>0.000</td>\n",
       "      <td>0.760</td>\n",
       "      <td>0.240</td>\n",
       "    </tr>\n",
       "    <tr>\n",
       "      <th>1</th>\n",
       "      <td>0.082</td>\n",
       "      <td>0.918</td>\n",
       "      <td>0.000</td>\n",
       "      <td>0.056</td>\n",
       "      <td>0.849</td>\n",
       "      <td>0.095</td>\n",
       "    </tr>\n",
       "    <tr>\n",
       "      <th>2</th>\n",
       "      <td>0.000</td>\n",
       "      <td>1.000</td>\n",
       "      <td>0.000</td>\n",
       "      <td>0.000</td>\n",
       "      <td>0.839</td>\n",
       "      <td>0.161</td>\n",
       "    </tr>\n",
       "    <tr>\n",
       "      <th>3</th>\n",
       "      <td>0.000</td>\n",
       "      <td>0.712</td>\n",
       "      <td>0.288</td>\n",
       "      <td>0.000</td>\n",
       "      <td>1.000</td>\n",
       "      <td>0.000</td>\n",
       "    </tr>\n",
       "    <tr>\n",
       "      <th>4</th>\n",
       "      <td>0.000</td>\n",
       "      <td>1.000</td>\n",
       "      <td>0.000</td>\n",
       "      <td>0.000</td>\n",
       "      <td>1.000</td>\n",
       "      <td>0.000</td>\n",
       "    </tr>\n",
       "  </tbody>\n",
       "</table>\n",
       "</div>"
      ],
      "text/plain": [
       "   twitter_neg  twitter_neu  twitter_pos  news_neg  news_neu  news_pos\n",
       "0        0.000        1.000        0.000     0.000     0.760     0.240\n",
       "1        0.082        0.918        0.000     0.056     0.849     0.095\n",
       "2        0.000        1.000        0.000     0.000     0.839     0.161\n",
       "3        0.000        0.712        0.288     0.000     1.000     0.000\n",
       "4        0.000        1.000        0.000     0.000     1.000     0.000"
      ]
     },
     "execution_count": 15,
     "metadata": {},
     "output_type": "execute_result"
    }
   ],
   "source": [
    "combined = pd.concat([twitter_shop, news_shop], axis = \"columns\",join = \"inner\")\n",
    "\n",
    "combined.head()"
   ]
  },
  {
   "cell_type": "code",
   "execution_count": 16,
   "metadata": {},
   "outputs": [
    {
     "data": {
      "text/html": [
       "<div>\n",
       "<style scoped>\n",
       "    .dataframe tbody tr th:only-of-type {\n",
       "        vertical-align: middle;\n",
       "    }\n",
       "\n",
       "    .dataframe tbody tr th {\n",
       "        vertical-align: top;\n",
       "    }\n",
       "\n",
       "    .dataframe thead th {\n",
       "        text-align: right;\n",
       "    }\n",
       "</style>\n",
       "<table border=\"1\" class=\"dataframe\">\n",
       "  <thead>\n",
       "    <tr style=\"text-align: right;\">\n",
       "      <th></th>\n",
       "      <th>twitter_neg</th>\n",
       "      <th>twitter_neu</th>\n",
       "      <th>twitter_pos</th>\n",
       "      <th>news_neg</th>\n",
       "      <th>news_neu</th>\n",
       "      <th>news_pos</th>\n",
       "    </tr>\n",
       "  </thead>\n",
       "  <tbody>\n",
       "    <tr>\n",
       "      <th>twitter_neg</th>\n",
       "      <td>1.000000</td>\n",
       "      <td>-0.748057</td>\n",
       "      <td>0.300588</td>\n",
       "      <td>0.066119</td>\n",
       "      <td>-0.201774</td>\n",
       "      <td>0.174395</td>\n",
       "    </tr>\n",
       "    <tr>\n",
       "      <th>twitter_neu</th>\n",
       "      <td>-0.748057</td>\n",
       "      <td>1.000000</td>\n",
       "      <td>-0.857801</td>\n",
       "      <td>-0.022831</td>\n",
       "      <td>0.086196</td>\n",
       "      <td>-0.077878</td>\n",
       "    </tr>\n",
       "    <tr>\n",
       "      <th>twitter_pos</th>\n",
       "      <td>0.300588</td>\n",
       "      <td>-0.857801</td>\n",
       "      <td>1.000000</td>\n",
       "      <td>-0.018397</td>\n",
       "      <td>0.032394</td>\n",
       "      <td>-0.023145</td>\n",
       "    </tr>\n",
       "    <tr>\n",
       "      <th>news_neg</th>\n",
       "      <td>0.066119</td>\n",
       "      <td>-0.022831</td>\n",
       "      <td>-0.018397</td>\n",
       "      <td>1.000000</td>\n",
       "      <td>-0.408204</td>\n",
       "      <td>-0.198638</td>\n",
       "    </tr>\n",
       "    <tr>\n",
       "      <th>news_neu</th>\n",
       "      <td>-0.201774</td>\n",
       "      <td>0.086196</td>\n",
       "      <td>0.032394</td>\n",
       "      <td>-0.408204</td>\n",
       "      <td>1.000000</td>\n",
       "      <td>-0.813614</td>\n",
       "    </tr>\n",
       "  </tbody>\n",
       "</table>\n",
       "</div>"
      ],
      "text/plain": [
       "             twitter_neg  twitter_neu  twitter_pos  news_neg  news_neu  \\\n",
       "twitter_neg     1.000000    -0.748057     0.300588  0.066119 -0.201774   \n",
       "twitter_neu    -0.748057     1.000000    -0.857801 -0.022831  0.086196   \n",
       "twitter_pos     0.300588    -0.857801     1.000000 -0.018397  0.032394   \n",
       "news_neg        0.066119    -0.022831    -0.018397  1.000000 -0.408204   \n",
       "news_neu       -0.201774     0.086196     0.032394 -0.408204  1.000000   \n",
       "\n",
       "             news_pos  \n",
       "twitter_neg  0.174395  \n",
       "twitter_neu -0.077878  \n",
       "twitter_pos -0.023145  \n",
       "news_neg    -0.198638  \n",
       "news_neu    -0.813614  "
      ]
     },
     "execution_count": 16,
     "metadata": {},
     "output_type": "execute_result"
    }
   ],
   "source": [
    "correlation = combined.corr()\n",
    "correlation.head()"
   ]
  },
  {
   "cell_type": "code",
   "execution_count": 17,
   "metadata": {},
   "outputs": [
    {
     "data": {
      "text/plain": [
       "<AxesSubplot:>"
      ]
     },
     "execution_count": 17,
     "metadata": {},
     "output_type": "execute_result"
    },
    {
     "data": {
      "image/png": "[encoded data removed]",
      "text/plain": [
       "<Figure size 432x288 with 2 Axes>"
      ]
     },
     "metadata": {
      "needs_background": "light"
     },
     "output_type": "display_data"
    }
   ],
   "source": [
    "sns.heatmap(correlation, vmin=-1, vmax=1)"
   ]
  },
  {
   "cell_type": "code",
   "execution_count": null,
   "metadata": {},
   "outputs": [],
   "source": []
  }
 ],
 "metadata": {
  "kernelspec": {
   "display_name": "Python [conda env:pyvizenv] *",
   "language": "python",
   "name": "conda-env-pyvizenv-py"
  },
  "language_info": {
   "codemirror_mode": {
    "name": "ipython",
    "version": 3
   },
   "file_extension": ".py",
   "mimetype": "text/x-python",
   "name": "python",
   "nbconvert_exporter": "python",
   "pygments_lexer": "ipython3",
   "version": "3.7.7"
  }
 },
 "nbformat": 4,
 "nbformat_minor": 4
}
