{
 "cells": [
  {
   "cell_type": "code",
   "execution_count": 3,
   "metadata": {},
   "outputs": [
    {
     "name": "stderr",
     "output_type": "stream",
     "text": [
      "[nltk_data] Downloading package vader_lexicon to\n",
      "[nltk_data]     /Users/simar/nltk_data...\n",
      "[nltk_data]   Package vader_lexicon is already up-to-date!\n"
     ]
    }
   ],
   "source": [
    "# Initial imports\n",
    "import os\n",
    "import pandas as pd\n",
    "from dotenv import load_dotenv\n",
    "import nltk as nltk\n",
    "nltk.download('vader_lexicon')\n",
    "from nltk.sentiment.vader import SentimentIntensityAnalyzer\n",
    "analyzer = SentimentIntensityAnalyzer()\n",
    "\n",
    "import panel as pn\n",
    "pn.extension('plotly')\n",
    "import plotly.express as px\n",
    "import hvplot.pandas\n",
    "import matplotlib.pyplot as plt\n",
    "from panel.interact import interact\n",
    "from panel import widgets\n",
    "\n",
    "%matplotlib inline"
   ]
  },
  {
   "cell_type": "code",
   "execution_count": 4,
   "metadata": {},
   "outputs": [],
   "source": [
    "# Read your api key environment variable\n",
    "load_dotenv()\n",
    "api_key = os.getenv(\"news_api\")"
   ]
  },
  {
   "cell_type": "code",
   "execution_count": 5,
   "metadata": {},
   "outputs": [],
   "source": [
    "# Create a newsapi client\n",
    "from newsapi import NewsApiClient\n",
    "newsapi = NewsApiClient(api_key=api_key)"
   ]
  },
  {
   "cell_type": "code",
   "execution_count": 6,
   "metadata": {},
   "outputs": [
    {
     "name": "stdout",
     "output_type": "stream",
     "text": [
      "Total articles about Shopify: 50\n"
     ]
    },
    {
     "data": {
      "text/plain": [
       "{'source': {'id': None, 'name': 'Motley Fool'},\n",
       " 'author': 'newsfeedback@fool.com (Leo Sun)',\n",
       " 'title': 'Better Buy: Shopify vs. Amazon',\n",
       " 'description': 'Which e-commerce juggernaut is the better investment for 2021?',\n",
       " 'url': 'https://www.fool.com/investing/2021/01/20/better-buy-shopify-vs-amazon/',\n",
       " 'urlToImage': 'https://g.foolcdn.com/editorial/images/608800/gettyimages-1193265314.jpg',\n",
       " 'publishedAt': '2021-01-20T13:00:00Z',\n",
       " 'content': 'Last February, I compared Shopify(NYSE:SHOP) to Amazon(NASDAQ:AMZN). I claimed Amazon\\'s stable e-commerce and cloud businesses made it a safer investment, and that Shopify\\'s stock was \"too hot to han… [+5204 chars]'}"
      ]
     },
     "execution_count": 6,
     "metadata": {},
     "output_type": "execute_result"
    }
   ],
   "source": [
    "shopify_articles = newsapi.get_everything(\n",
    "    q = \"shopify AND stock\",\n",
    "    language = \"en\",\n",
    "    page_size=100,\n",
    "    sort_by = \"relevancy\",\n",
    "    from_param = \"2021-01-15\",\n",
    "    to = \"2021-01-21\"\n",
    ")\n",
    "# Print total articles\n",
    "print(f\"Total articles about Shopify: {shopify_articles['totalResults']}\")\n",
    "\n",
    "# Show sample article\n",
    "shopify_articles[\"articles\"][2]"
   ]
  },
  {
   "cell_type": "code",
   "execution_count": 7,
   "metadata": {},
   "outputs": [
    {
     "name": "stdout",
     "output_type": "stream",
     "text": [
      "Total articles about RBC: 72\n"
     ]
    },
    {
     "data": {
      "text/plain": [
       "{'source': {'id': None, 'name': 'Motley Fool'},\n",
       " 'author': 'newsfeedback@fool.com (Harsh Chauhan)',\n",
       " 'title': 'Forget Bitcoin, This Hot Tech Stock Is a Better Buy',\n",
       " 'description': \"There's a safer way to profit from the cryptocurrency craze.\",\n",
       " 'url': 'https://www.fool.com/investing/2021/01/20/forget-bitcoin-this-hot-tech-stock-is-a-better-buy/',\n",
       " 'urlToImage': 'https://g.foolcdn.com/editorial/images/608756/light-map.jpg',\n",
       " 'publishedAt': '2021-01-20T16:05:00Z',\n",
       " 'content': 'Bitcoin prices have enjoyed meteoric growth over the past few months as institutional investors and big firms have poured money into the digital currency, but the volatility of the cryptocurrency mar… [+3402 chars]'}"
      ]
     },
     "execution_count": 7,
     "metadata": {},
     "output_type": "execute_result"
    }
   ],
   "source": [
    "RBC_articles = newsapi.get_everything(\n",
    "    q = \"RBC AND stock\",\n",
    "    language = \"en\",\n",
    "    page_size=100,\n",
    "    sort_by = \"relevancy\",\n",
    "    from_param = \"2021-01-15\",\n",
    "    to = \"2021-01-22\"\n",
    ")\n",
    "# Print total articles\n",
    "print(f\"Total articles about RBC: {RBC_articles['totalResults']}\")\n",
    "\n",
    "# Show sample article\n",
    "RBC_articles[\"articles\"][3]"
   ]
  },
  {
   "cell_type": "code",
   "execution_count": 8,
   "metadata": {},
   "outputs": [
    {
     "name": "stdout",
     "output_type": "stream",
     "text": [
      "Total articles about Enbridge: 32\n"
     ]
    },
    {
     "data": {
      "text/plain": [
       "{'source': {'id': 'reuters', 'name': 'Reuters'},\n",
       " 'author': 'Nia Williams, Rod Nickel',\n",
       " 'title': 'TC Energy shares fall on fears of KXL oil pipeline cancellation - Reuters',\n",
       " 'description': 'Shares in Keystone XL oil pipeline owner TC Energy fell on Monday after reports U.S. President-elect Joe Biden will cancel a permit for the long-delayed project, a blow to the Canadian energy sector and Prime Minister Justin Trudeau.',\n",
       " 'url': 'https://www.reuters.com/article/us-usa-biden-keystone/tc-energy-shares-fall-on-fears-of-kxl-oil-pipeline-cancellation-idUSKBN29N1MQ',\n",
       " 'urlToImage': 'https://static.reuters.com/resources/r/?m=02&d=20210118&t=2&i=1548214793&r=LYNXMPEH0H0ZX&w=800',\n",
       " 'publishedAt': '2021-01-18T16:34:00Z',\n",
       " 'content': \"FILE PHOTO: A depot used to store pipes for Transcanada Corp's planned Keystone XL oil pipeline is seen in Gascoyne, North Dakota, January 25, 2017. REUTERS/Terray Sylvester/\\r\\nCALGARY, Alberta (Reute… [+1890 chars]\"}"
      ]
     },
     "execution_count": 8,
     "metadata": {},
     "output_type": "execute_result"
    }
   ],
   "source": [
    "enbridge_articles = newsapi.get_everything(\n",
    "    q = \"Enbridge AND stock\",\n",
    "    language = \"en\",\n",
    "    page_size=50,\n",
    "    sort_by = \"relevancy\",\n",
    "    from_param = \"2021-01-15\",\n",
    "    to = \"2021-01-22\"\n",
    ")\n",
    "# Print total articles\n",
    "print(f\"Total articles about Enbridge: {enbridge_articles['totalResults']}\")\n",
    "\n",
    "# Show sample article\n",
    "enbridge_articles[\"articles\"][0]"
   ]
  },
  {
   "cell_type": "code",
   "execution_count": 9,
   "metadata": {},
   "outputs": [
    {
     "name": "stdout",
     "output_type": "stream",
     "text": [
      "Total articles about Barrick Gold: 19\n"
     ]
    },
    {
     "data": {
      "text/plain": [
       "{'source': {'id': 'reuters', 'name': 'Reuters'},\n",
       " 'author': 'Nuzulack Dausen',\n",
       " 'title': 'Tanzania and Kabanga Nickel strike deal to develop nickel project - Reuters',\n",
       " 'description': 'Tanzania and UK-based mining firm Kabanga Nickel Limited signed a framework agreement on Tuesday to jointly develop the Kabanga nickel project formerly owned by Barrick Gold and Glencore.',\n",
       " 'url': 'https://www.reuters.com/article/us-tanzania-mining-nickel/tanzania-and-kabanga-nickel-strike-deal-to-develop-nickel-project-idUSKBN29O1PD',\n",
       " 'urlToImage': 'https://s1.reutersmedia.net/resources_v2/images/rcom-default.png?w=800',\n",
       " 'publishedAt': '2021-01-19T14:36:00Z',\n",
       " 'content': 'DAR ES SALAAM (Reuters) - Tanzania and UK-based mining firm Kabanga Nickel Limited signed a framework agreement on Tuesday to jointly develop the Kabanga nickel project formerly owned by Barrick Gold… [+1416 chars]'}"
      ]
     },
     "execution_count": 9,
     "metadata": {},
     "output_type": "execute_result"
    }
   ],
   "source": [
    "barrick_articles = newsapi.get_everything(\n",
    "    q = \"Barrick OR ABX\",\n",
    "    language = \"en\",\n",
    "    page_size=50,\n",
    "    sort_by = \"relevancy\",\n",
    "    from_param = \"2021-01-15\",\n",
    "    to = \"2021-01-22\"\n",
    ")\n",
    "# Print total articles\n",
    "print(f\"Total articles about Barrick Gold: {barrick_articles['totalResults']}\")\n",
    "\n",
    "# Show sample article\n",
    "barrick_articles[\"articles\"][0]"
   ]
  },
  {
   "cell_type": "code",
   "execution_count": 10,
   "metadata": {},
   "outputs": [
    {
     "data": {
      "text/html": [
       "<div>\n",
       "<style scoped>\n",
       "    .dataframe tbody tr th:only-of-type {\n",
       "        vertical-align: middle;\n",
       "    }\n",
       "\n",
       "    .dataframe tbody tr th {\n",
       "        vertical-align: top;\n",
       "    }\n",
       "\n",
       "    .dataframe thead th {\n",
       "        text-align: right;\n",
       "    }\n",
       "</style>\n",
       "<table border=\"1\" class=\"dataframe\">\n",
       "  <thead>\n",
       "    <tr style=\"text-align: right;\">\n",
       "      <th></th>\n",
       "      <th>date</th>\n",
       "      <th>compound</th>\n",
       "      <th>negative</th>\n",
       "      <th>neutral</th>\n",
       "      <th>positive</th>\n",
       "    </tr>\n",
       "  </thead>\n",
       "  <tbody>\n",
       "    <tr>\n",
       "      <th>0</th>\n",
       "      <td>2021-01-15</td>\n",
       "      <td>0.7964</td>\n",
       "      <td>0.000</td>\n",
       "      <td>0.760</td>\n",
       "      <td>0.240</td>\n",
       "    </tr>\n",
       "    <tr>\n",
       "      <th>1</th>\n",
       "      <td>2021-01-19</td>\n",
       "      <td>0.1280</td>\n",
       "      <td>0.056</td>\n",
       "      <td>0.849</td>\n",
       "      <td>0.095</td>\n",
       "    </tr>\n",
       "    <tr>\n",
       "      <th>2</th>\n",
       "      <td>2021-01-20</td>\n",
       "      <td>0.6124</td>\n",
       "      <td>0.000</td>\n",
       "      <td>0.839</td>\n",
       "      <td>0.161</td>\n",
       "    </tr>\n",
       "    <tr>\n",
       "      <th>3</th>\n",
       "      <td>2021-01-20</td>\n",
       "      <td>0.0000</td>\n",
       "      <td>0.000</td>\n",
       "      <td>1.000</td>\n",
       "      <td>0.000</td>\n",
       "    </tr>\n",
       "    <tr>\n",
       "      <th>4</th>\n",
       "      <td>2021-01-21</td>\n",
       "      <td>0.0000</td>\n",
       "      <td>0.000</td>\n",
       "      <td>1.000</td>\n",
       "      <td>0.000</td>\n",
       "    </tr>\n",
       "  </tbody>\n",
       "</table>\n",
       "</div>"
      ],
      "text/plain": [
       "         date  compound  negative  neutral  positive\n",
       "0  2021-01-15    0.7964     0.000    0.760     0.240\n",
       "1  2021-01-19    0.1280     0.056    0.849     0.095\n",
       "2  2021-01-20    0.6124     0.000    0.839     0.161\n",
       "3  2021-01-20    0.0000     0.000    1.000     0.000\n",
       "4  2021-01-21    0.0000     0.000    1.000     0.000"
      ]
     },
     "execution_count": 10,
     "metadata": {},
     "output_type": "execute_result"
    }
   ],
   "source": [
    "shopify_sentiments = []\n",
    "\n",
    "for article in shopify_articles[\"articles\"]:\n",
    "    try:\n",
    "        text = article[\"content\"]\n",
    "        date = article[\"publishedAt\"][:10]\n",
    "        sentiment = analyzer.polarity_scores(text)\n",
    "        compound = sentiment[\"compound\"]\n",
    "        neg = sentiment[\"neg\"]\n",
    "        neu = sentiment[\"neu\"]\n",
    "        pos = sentiment[\"pos\"]\n",
    "        \n",
    "        shopify_sentiments.append({\n",
    "            \"text\": text,\n",
    "            \"date\": date,\n",
    "            \"compound\": compound,\n",
    "            \"positive\": pos,\n",
    "            \"negative\": neg,\n",
    "            \"neutral\": neu\n",
    "            \n",
    "        })\n",
    "        \n",
    "    except AttributeError:\n",
    "        pass\n",
    "    \n",
    "# Create DataFrame\n",
    "shopify_df = pd.DataFrame(shopify_sentiments)\n",
    "\n",
    "# Reorder DataFrame columns\n",
    "cols = [\"date\", \"compound\", \"negative\", \"neutral\", \"positive\"]\n",
    "shopify_df = shopify_df[cols]\n",
    "\n",
    "shopify_df.head()"
   ]
  },
  {
   "cell_type": "code",
   "execution_count": 11,
   "metadata": {},
   "outputs": [
    {
     "data": {
      "application/vnd.holoviews_exec.v0+json": "",
      "text/html": [
       "<div id='1001'>\n",
       "\n",
       "\n",
       "\n",
       "\n",
       "\n",
       "  <div class=\"bk-root\" id=\"45745315-aa6b-433e-acad-7d37ad6259b5\" data-root-id=\"1001\"></div>\n",
       "</div>\n",
       "<script type=\"application/javascript\">(function(root) {\n",
       "  function embed_document(root) {\n",
       "    var docs_json = {\"e8c2c289-ced5-4782-bb70-d14bbc0be6f7\":{\"roots\":{\"references\":[{\"attributes\":{\"data_source\":{\"id\":\"1036\"},\"glyph\":{\"id\":\"1039\"},\"hover_glyph\":null,\"muted_glyph\":{\"id\":\"1041\"},\"nonselection_glyph\":{\"id\":\"1040\"},\"selection_glyph\":null,\"view\":{\"id\":\"1043\"}},\"id\":\"1042\",\"type\":\"GlyphRenderer\"},{\"attributes\":{\"bottom\":{\"field\":\"bottom\"},\"fill_alpha\":{\"value\":0.4},\"fill_color\":{\"field\":\"Variable\",\"transform\":{\"id\":\"1035\"}},\"line_alpha\":{\"value\":0.4},\"top\":{\"field\":\"top\"},\"width\":{\"value\":0.8},\"x\":{\"field\":\"index\"}},\"id\":\"1040\",\"type\":\"VBar\"},{\"attributes\":{\"bottom_units\":\"screen\",\"fill_alpha\":0.5,\"fill_color\":\"lightgrey\",\"left_units\":\"screen\",\"level\":\"overlay\",\"line_alpha\":1.0,\"line_color\":\"black\",\"line_dash\":[4,4],\"line_width\":2,\"right_units\":\"screen\",\"top_units\":\"screen\"},\"id\":\"1027\",\"type\":\"BoxAnnotation\"},{\"attributes\":{\"factors\":[\"0\",\"1\",\"2\",\"3\",\"4\",\"5\",\"6\",\"7\",\"8\",\"9\",\"10\",\"11\",\"12\",\"13\",\"14\",\"15\",\"16\",\"17\",\"18\",\"19\",\"20\",\"21\",\"22\",\"23\",\"24\",\"25\",\"26\",\"27\",\"28\",\"29\",\"30\",\"31\",\"32\",\"33\",\"34\",\"35\",\"36\",\"37\",\"38\",\"39\",\"40\",\"41\",\"42\",\"43\",\"44\",\"45\",\"46\"],\"tags\":[[[\"index\",\"index\",null]]]},\"id\":\"1003\",\"type\":\"FactorRange\"},{\"attributes\":{},\"id\":\"1037\",\"type\":\"Selection\"},{\"attributes\":{\"margin\":[5,5,5,5],\"name\":\"HSpacer01533\",\"sizing_mode\":\"stretch_width\"},\"id\":\"1074\",\"type\":\"Spacer\"},{\"attributes\":{\"below\":[{\"id\":\"1015\"}],\"center\":[{\"id\":\"1017\"},{\"id\":\"1021\"},{\"id\":\"1052\"}],\"left\":[{\"id\":\"1018\"}],\"margin\":[5,5,5,5],\"min_border_bottom\":10,\"min_border_left\":10,\"min_border_right\":10,\"min_border_top\":10,\"plot_height\":300,\"plot_width\":700,\"renderers\":[{\"id\":\"1042\"}],\"right\":[{\"id\":\"1052\"}],\"sizing_mode\":\"fixed\",\"title\":{\"id\":\"1007\"},\"toolbar\":{\"id\":\"1028\"},\"x_range\":{\"id\":\"1003\"},\"x_scale\":{\"id\":\"1011\"},\"y_range\":{\"id\":\"1004\"},\"y_scale\":{\"id\":\"1013\"}},\"id\":\"1006\",\"subtype\":\"Figure\",\"type\":\"Plot\"},{\"attributes\":{\"active_drag\":\"auto\",\"active_inspect\":\"auto\",\"active_multi\":null,\"active_scroll\":\"auto\",\"active_tap\":\"auto\",\"tools\":[{\"id\":\"1005\"},{\"id\":\"1022\"},{\"id\":\"1023\"},{\"id\":\"1024\"},{\"id\":\"1025\"},{\"id\":\"1026\"}]},\"id\":\"1028\",\"type\":\"Toolbar\"},{\"attributes\":{\"source\":{\"id\":\"1036\"}},\"id\":\"1043\",\"type\":\"CDSView\"},{\"attributes\":{\"axis\":{\"id\":\"1018\"},\"dimension\":1,\"grid_line_color\":null,\"ticker\":null},\"id\":\"1021\",\"type\":\"Grid\"},{\"attributes\":{},\"id\":\"1022\",\"type\":\"SaveTool\"},{\"attributes\":{},\"id\":\"1023\",\"type\":\"PanTool\"},{\"attributes\":{\"axis\":{\"id\":\"1015\"},\"grid_line_color\":null,\"ticker\":null},\"id\":\"1017\",\"type\":\"Grid\"},{\"attributes\":{\"axis_label\":\"\",\"bounds\":\"auto\",\"formatter\":{\"id\":\"1045\"},\"major_label_orientation\":1.5707963267948966,\"ticker\":{\"id\":\"1016\"}},\"id\":\"1015\",\"type\":\"CategoricalAxis\"},{\"attributes\":{\"end\":0.4037,\"reset_end\":0.4037,\"reset_start\":0.0,\"tags\":[[[\"value\",\"value\",null]]]},\"id\":\"1004\",\"type\":\"Range1d\"},{\"attributes\":{},\"id\":\"1047\",\"type\":\"BasicTickFormatter\"},{\"attributes\":{},\"id\":\"1013\",\"type\":\"LinearScale\"},{\"attributes\":{},\"id\":\"1051\",\"type\":\"UnionRenderers\"},{\"attributes\":{\"overlay\":{\"id\":\"1027\"}},\"id\":\"1025\",\"type\":\"BoxZoomTool\"},{\"attributes\":{},\"id\":\"1045\",\"type\":\"CategoricalTickFormatter\"},{\"attributes\":{\"bottom\":{\"field\":\"bottom\"},\"fill_alpha\":{\"value\":0.4},\"fill_color\":{\"field\":\"Variable\",\"transform\":{\"id\":\"1035\"}},\"line_alpha\":{\"value\":0.4},\"top\":{\"field\":\"top\"},\"width\":{\"value\":0.8},\"x\":{\"field\":\"index\"}},\"id\":\"1039\",\"type\":\"VBar\"},{\"attributes\":{\"axis_label\":\"\",\"bounds\":\"auto\",\"formatter\":{\"id\":\"1047\"},\"major_label_orientation\":\"horizontal\",\"ticker\":{\"id\":\"1019\"}},\"id\":\"1018\",\"type\":\"LinearAxis\"},{\"attributes\":{},\"id\":\"1011\",\"type\":\"CategoricalScale\"},{\"attributes\":{},\"id\":\"1026\",\"type\":\"ResetTool\"},{\"attributes\":{\"margin\":[5,5,5,5],\"name\":\"HSpacer01532\",\"sizing_mode\":\"stretch_width\"},\"id\":\"1002\",\"type\":\"Spacer\"},{\"attributes\":{\"text\":\"Shopify\",\"text_color\":{\"value\":\"black\"},\"text_font_size\":{\"value\":\"12pt\"}},\"id\":\"1007\",\"type\":\"Title\"},{\"attributes\":{},\"id\":\"1024\",\"type\":\"WheelZoomTool\"},{\"attributes\":{\"children\":[{\"id\":\"1002\"},{\"id\":\"1006\"},{\"id\":\"1074\"}],\"margin\":[0,0,0,0],\"name\":\"Row01528\",\"tags\":[\"embedded\"]},\"id\":\"1001\",\"type\":\"Row\"},{\"attributes\":{\"label\":{\"field\":\"Variable\"},\"renderers\":[{\"id\":\"1042\"}]},\"id\":\"1053\",\"type\":\"LegendItem\"},{\"attributes\":{\"data\":{\"Variable\":[\"negative\",\"negative\",\"negative\",\"negative\",\"negative\",\"negative\",\"negative\",\"negative\",\"negative\",\"negative\",\"negative\",\"negative\",\"negative\",\"negative\",\"negative\",\"negative\",\"negative\",\"negative\",\"negative\",\"negative\",\"negative\",\"negative\",\"negative\",\"negative\",\"negative\",\"negative\",\"negative\",\"negative\",\"negative\",\"negative\",\"negative\",\"negative\",\"negative\",\"negative\",\"negative\",\"negative\",\"negative\",\"negative\",\"negative\",\"negative\",\"negative\",\"negative\",\"negative\",\"negative\",\"negative\",\"negative\",\"negative\",\"positive\",\"positive\",\"positive\",\"positive\",\"positive\",\"positive\",\"positive\",\"positive\",\"positive\",\"positive\",\"positive\",\"positive\",\"positive\",\"positive\",\"positive\",\"positive\",\"positive\",\"positive\",\"positive\",\"positive\",\"positive\",\"positive\",\"positive\",\"positive\",\"positive\",\"positive\",\"positive\",\"positive\",\"positive\",\"positive\",\"positive\",\"positive\",\"positive\",\"positive\",\"positive\",\"positive\",\"positive\",\"positive\",\"positive\",\"positive\",\"positive\",\"positive\",\"positive\",\"positive\",\"positive\",\"positive\",\"positive\"],\"bottom\":{\"__ndarray__\":\"AAAAAAAAAAAAAAAAAAAAAAAAAAAAAAAAAAAAAAAAAAAAAAAAAAAAAAAAAAAAAAAAAAAAAAAAAAAAAAAAAAAAAAAAAAAAAAAAAAAAAAAAAAAAAAAAAAAAAAAAAAAAAAAAAAAAAAAAAAAAAAAAAAAAAAAAAAAAAAAAAAAAAAAAAAAAAAAAAAAAAAAAAAAAAAAAAAAAAAAAAAAAAAAAAAAAAAAAAAAAAAAAAAAAAAAAAAAAAAAAAAAAAAAAAAAAAAAAAAAAAAAAAAAAAAAAAAAAAAAAAAAAAAAAAAAAAAAAAAAAAAAAAAAAAAAAAAAAAAAAAAAAAAAAAAAAAAAAAAAAAAAAAAAAAAAAAAAAAAAAAAAAAAAAAAAAAAAAAAAAAAAAAAAAAAAAAAAAAAAAAAAAAAAAAAAAAAAAAAAAAAAAAAAAAAAAAAAAAAAAAAAAAAAAAAAAAAAAAAAAAAAAAAAAAAAAAAAAAAAAAAAAAAAAAAAAAAAAAAAAAJMYBFYOLcI/AAAAAAAAAAAAAAAAAAAAAAAAAAAAAAAAIbByaJHtvD+PwvUoXI/CPwAAAAAAAAAA8tJNYhBYuT8AAAAAAAAAANv5fmq8dLM/AAAAAAAAAABqvHSTGASmPwAAAAAAAAAAAAAAAAAAAAAAAAAAAAAAAAAAAAAAAAAAAAAAAAAAAAArhxbZzvfDP7gehetRuL4/CtejcD0Kxz8AAAAAAAAAAGq8dJMYBKY/AAAAAAAAAADJdr6fGi+9PwAAAAAAAAAAAAAAAAAAAAB56SYxCKysPwAAAAAAAAAAAAAAAAAAAAAAAAAAAAAAAAAAAAAAAAAAAAAAAAAAAAAZBFYOLbK9PwAAAAAAAAAA2/l+arx0sz+BlUOLbOe7PwAAAAAAAAAAAAAAAAAAAAAAAAAAAAAAAAAAAAAAAAAA2/l+arx0wz8AAAAAAAAAAFg5tMh2vp8/AAAAAAAAAAAAAAAAAAAAAAisHFpkO68/AAAAAAAAAAA=\",\"dtype\":\"float64\",\"order\":\"little\",\"shape\":[94]},\"index\":[\"0\",\"26\",\"27\",\"28\",\"29\",\"30\",\"31\",\"32\",\"33\",\"34\",\"25\",\"35\",\"37\",\"38\",\"39\",\"40\",\"41\",\"42\",\"43\",\"44\",\"45\",\"36\",\"24\",\"46\",\"22\",\"1\",\"2\",\"3\",\"4\",\"5\",\"6\",\"23\",\"8\",\"9\",\"10\",\"7\",\"12\",\"11\",\"20\",\"19\",\"18\",\"21\",\"16\",\"15\",\"14\",\"13\",\"17\",\"25\",\"26\",\"27\",\"28\",\"29\",\"30\",\"31\",\"32\",\"33\",\"44\",\"35\",\"36\",\"37\",\"38\",\"39\",\"40\",\"41\",\"42\",\"43\",\"24\",\"34\",\"23\",\"11\",\"21\",\"45\",\"0\",\"1\",\"2\",\"3\",\"4\",\"5\",\"6\",\"7\",\"8\",\"9\",\"10\",\"12\",\"13\",\"14\",\"15\",\"16\",\"17\",\"18\",\"19\",\"20\",\"22\",\"46\"],\"top\":{\"__ndarray__\":\"AAAAAAAAAAAAAAAAAAAAAAAAAAAAAAAAAAAAAAAAAAAhsHJoke28P4/C9Shcj8I/AAAAAAAAAADy0k1iEFi5PwAAAAAAAAAAAAAAAAAAAACTGARWDi3CPwAAAAAAAAAAAAAAAAAAAAAAAAAAAAAAAAAAAAAAAAAAAAAAAAAAAAAAAAAAAAAAACuHFtnO98M/uB6F61G4vj/b+X5qvHSzPwAAAAAAAAAAarx0kxgEpj8K16NwPQrHPwAAAAAAAAAACKwcWmQ7rz956SYxCKysPwAAAAAAAAAAAAAAAAAAAAAAAAAAAAAAAAAAAAAAAAAAAAAAAAAAAABqvHSTGASmPwAAAAAAAAAA2/l+arx0sz+BlUOLbOe7PxkEVg4tsr0/AAAAAAAAAAAAAAAAAAAAAAAAAAAAAAAAAAAAAAAAAABYObTIdr6fP8l2vp8aL70/2/l+arx0wz8AAAAAAAAAAAAAAAAAAAAAAAAAAAAAAAAAAAAAAAAAAJMYBFYOLcI/hetRuB6Fyz9MN4lBYOXAPwAAAAAAAAAAIbByaJHtvD81XrpJDALLP3sUrkfherQ/bxKDwMqhxT9qvHSTGASmP9v5fmq8dLM/sHJoke181z9qvHSTGASmP5zEILByaLE/EFg5tMh2vj8AAAAAAAAAALKd76fGS7c/g8DKoUW2sz+S7Xw/NV7KP5ZDi2zn+9E/CtejcD0Kxz8AAAAAAAAAAClcj8L1KLw/mpmZmZmZuT8tsp3vp8bLPxkEVg4tsp0/uB6F61G4zj+HFtnO91PDP8/3U+Olm8Q/AAAAAAAAAAAAAAAAAAAAAIPAyqFFtrM/AAAAAAAAAAAZBFYOLbK9P1YOLbKd78c/UrgehetRyD/dJAaBlUPTP7gehetRuM4/AAAAAAAAAACLbOf7qfGyP9v5fmq8dLM/2/l+arx0wz/n+6nx0k3SPyuHFtnO97M/AAAAAAAAAADb+X5qvHSjP46XbhKDwNI/g8DKoUW2sz8=\",\"dtype\":\"float64\",\"order\":\"little\",\"shape\":[94]},\"value\":{\"__ndarray__\":\"AAAAAAAAAAAAAAAAAAAAAAAAAAAAAAAAAAAAAAAAAAAhsHJoke28P4/C9Shcj8I/AAAAAAAAAADy0k1iEFi5PwAAAAAAAAAAAAAAAAAAAACTGARWDi3CPwAAAAAAAAAAAAAAAAAAAAAAAAAAAAAAAAAAAAAAAAAAAAAAAAAAAAAAAAAAAAAAACuHFtnO98M/uB6F61G4vj/b+X5qvHSzPwAAAAAAAAAAarx0kxgEpj8K16NwPQrHPwAAAAAAAAAACKwcWmQ7rz956SYxCKysPwAAAAAAAAAAAAAAAAAAAAAAAAAAAAAAAAAAAAAAAAAAAAAAAAAAAABqvHSTGASmPwAAAAAAAAAA2/l+arx0sz+BlUOLbOe7PxkEVg4tsr0/AAAAAAAAAAAAAAAAAAAAAAAAAAAAAAAAAAAAAAAAAABYObTIdr6fP8l2vp8aL70/2/l+arx0wz8AAAAAAAAAAAAAAAAAAAAAAAAAAAAAAAAAAAAAAAAAAAAAAAAAAAAAhetRuB6Fyz9MN4lBYOXAPwAAAAAAAAAAAAAAAAAAAABMN4lBYOWwP3sUrkfherQ/7FG4HoXrsT9qvHSTGASmPwAAAAAAAAAAsHJoke181z8AAAAAAAAAAJzEILByaLE/EFg5tMh2vj8AAAAAAAAAALKd76fGS7c/g8DKoUW2sz+amZmZmZmpP8/3U+Olm8Q/AAAAAAAAAAAAAAAAAAAAAPT91HjpJrE/mpmZmZmZuT+R7Xw/NV66PxkEVg4tsp0/uB6F61G4zj9SuB6F61G4P8/3U+Olm8Q/AAAAAAAAAAAAAAAAAAAAAIPAyqFFtrM/AAAAAAAAAAAAAAAAAAAAAFYOLbKd78c/yXa+nxovvT/6fmq8dJPIP7gehetRuM4/AAAAAAAAAACLbOf7qfGyP9v5fmq8dLM/AAAAAAAAAADn+6nx0k3SP6rx0k1iEKg/AAAAAAAAAADb+X5qvHSjPxkEVg4tss0/g8DKoUW2sz8=\",\"dtype\":\"float64\",\"order\":\"little\",\"shape\":[94]}},\"selected\":{\"id\":\"1037\"},\"selection_policy\":{\"id\":\"1051\"}},\"id\":\"1036\",\"type\":\"ColumnDataSource\"},{\"attributes\":{},\"id\":\"1016\",\"type\":\"CategoricalTicker\"},{\"attributes\":{\"bottom\":{\"field\":\"bottom\"},\"fill_alpha\":{\"value\":0.2},\"fill_color\":{\"field\":\"Variable\",\"transform\":{\"id\":\"1035\"}},\"line_alpha\":{\"value\":0.2},\"top\":{\"field\":\"top\"},\"width\":{\"value\":0.8},\"x\":{\"field\":\"index\"}},\"id\":\"1041\",\"type\":\"VBar\"},{\"attributes\":{\"factors\":[\"negative\",\"positive\"],\"palette\":[\"#1f77b3\",\"#ff7e0e\"]},\"id\":\"1035\",\"type\":\"CategoricalColorMapper\"},{\"attributes\":{\"items\":[{\"id\":\"1053\"}],\"location\":[0,0]},\"id\":\"1052\",\"type\":\"Legend\"},{\"attributes\":{},\"id\":\"1019\",\"type\":\"BasicTicker\"},{\"attributes\":{\"callback\":null,\"renderers\":[{\"id\":\"1042\"}],\"tags\":[\"hv_created\"],\"tooltips\":[[\"index\",\"@{index}\"],[\"Variable\",\"@{Variable}\"],[\"value\",\"@{value}\"]]},\"id\":\"1005\",\"type\":\"HoverTool\"}],\"root_ids\":[\"1001\"]},\"title\":\"Bokeh Application\",\"version\":\"2.2.3\"}};\n",
       "    var render_items = [{\"docid\":\"e8c2c289-ced5-4782-bb70-d14bbc0be6f7\",\"root_ids\":[\"1001\"],\"roots\":{\"1001\":\"45745315-aa6b-433e-acad-7d37ad6259b5\"}}];\n",
       "    root.Bokeh.embed.embed_items_notebook(docs_json, render_items);\n",
       "  }\n",
       "  if (root.Bokeh !== undefined && root.Bokeh.Panel !== undefined && root['Plotly'] !== undefined ) {\n",
       "    embed_document(root);\n",
       "  } else {\n",
       "    var attempts = 0;\n",
       "    var timer = setInterval(function(root) {\n",
       "      if (root.Bokeh !== undefined && root.Bokeh.Panel !== undefined && root['Plotly'] !== undefined) {\n",
       "        clearInterval(timer);\n",
       "        embed_document(root);\n",
       "      } else if (document.readyState == \"complete\") {\n",
       "        attempts++;\n",
       "        if (attempts > 100) {\n",
       "          clearInterval(timer);\n",
       "          console.log(\"Bokeh: ERROR: Unable to run BokehJS code because BokehJS library is missing\");\n",
       "        }\n",
       "      }\n",
       "    }, 10, root)\n",
       "  }\n",
       "})(window);</script>"
      ],
      "text/plain": [
       ":Bars   [index,Variable]   (value)"
      ]
     },
     "execution_count": 11,
     "metadata": {
      "application/vnd.holoviews_exec.v0+json": {
       "id": "1001"
      }
     },
     "output_type": "execute_result"
    }
   ],
   "source": [
    "shopify_plot = shopify_df.hvplot.bar(x='index', y=['negative', 'positive'], stacked=True, alpha=0.4, rot =90, title=\"Shopify\")\n",
    "shopify_plot "
   ]
  },
  {
   "cell_type": "code",
   "execution_count": 12,
   "metadata": {},
   "outputs": [
    {
     "data": {
      "text/html": [
       "<div>\n",
       "<style scoped>\n",
       "    .dataframe tbody tr th:only-of-type {\n",
       "        vertical-align: middle;\n",
       "    }\n",
       "\n",
       "    .dataframe tbody tr th {\n",
       "        vertical-align: top;\n",
       "    }\n",
       "\n",
       "    .dataframe thead th {\n",
       "        text-align: right;\n",
       "    }\n",
       "</style>\n",
       "<table border=\"1\" class=\"dataframe\">\n",
       "  <thead>\n",
       "    <tr style=\"text-align: right;\">\n",
       "      <th></th>\n",
       "      <th>Total</th>\n",
       "    </tr>\n",
       "  </thead>\n",
       "  <tbody>\n",
       "    <tr>\n",
       "      <th>negative</th>\n",
       "      <td>1.832</td>\n",
       "    </tr>\n",
       "    <tr>\n",
       "      <th>positive</th>\n",
       "      <td>3.974</td>\n",
       "    </tr>\n",
       "  </tbody>\n",
       "</table>\n",
       "</div>"
      ],
      "text/plain": [
       "          Total\n",
       "negative  1.832\n",
       "positive  3.974"
      ]
     },
     "execution_count": 12,
     "metadata": {},
     "output_type": "execute_result"
    }
   ],
   "source": [
    "sum_df= shopify_df.sum(axis=0)\n",
    "combined= pd.DataFrame(sum_df).rename(columns = {0:\"Total\"}) \n",
    "combined=combined.drop(['date','compound','neutral'])\n",
    "combined"
   ]
  },
  {
   "cell_type": "code",
   "execution_count": 13,
   "metadata": {},
   "outputs": [
    {
     "data": {
      "text/plain": [
       "<AxesSubplot:title={'center':'Shopify'}, ylabel='Total'>"
      ]
     },
     "execution_count": 13,
     "metadata": {},
     "output_type": "execute_result"
    },
    {
     "data": {
      "image/png": "[encoded data removed]",
      "text/plain": [
       "<Figure size 432x288 with 1 Axes>"
      ]
     },
     "metadata": {},
     "output_type": "display_data"
    }
   ],
   "source": [
    "combined_plot = combined.plot.pie(y=\"Total\", title=\"Shopify\", autopct='%.0f%%')\n",
    "combined_plot "
   ]
  },
  {
   "cell_type": "code",
   "execution_count": 15,
   "metadata": {},
   "outputs": [
    {
     "data": {
      "text/html": [
       "<div>\n",
       "<style scoped>\n",
       "    .dataframe tbody tr th:only-of-type {\n",
       "        vertical-align: middle;\n",
       "    }\n",
       "\n",
       "    .dataframe tbody tr th {\n",
       "        vertical-align: top;\n",
       "    }\n",
       "\n",
       "    .dataframe thead th {\n",
       "        text-align: right;\n",
       "    }\n",
       "</style>\n",
       "<table border=\"1\" class=\"dataframe\">\n",
       "  <thead>\n",
       "    <tr style=\"text-align: right;\">\n",
       "      <th></th>\n",
       "      <th>date</th>\n",
       "      <th>compound</th>\n",
       "      <th>negative</th>\n",
       "      <th>neutral</th>\n",
       "      <th>positive</th>\n",
       "    </tr>\n",
       "  </thead>\n",
       "  <tbody>\n",
       "    <tr>\n",
       "      <th>0</th>\n",
       "      <td>2021-01-18</td>\n",
       "      <td>0.0000</td>\n",
       "      <td>0.0</td>\n",
       "      <td>1.000</td>\n",
       "      <td>0.000</td>\n",
       "    </tr>\n",
       "    <tr>\n",
       "      <th>1</th>\n",
       "      <td>2021-01-22</td>\n",
       "      <td>0.0000</td>\n",
       "      <td>0.0</td>\n",
       "      <td>1.000</td>\n",
       "      <td>0.000</td>\n",
       "    </tr>\n",
       "    <tr>\n",
       "      <th>2</th>\n",
       "      <td>2021-01-22</td>\n",
       "      <td>0.0000</td>\n",
       "      <td>0.0</td>\n",
       "      <td>1.000</td>\n",
       "      <td>0.000</td>\n",
       "    </tr>\n",
       "    <tr>\n",
       "      <th>3</th>\n",
       "      <td>2021-01-20</td>\n",
       "      <td>0.4497</td>\n",
       "      <td>0.0</td>\n",
       "      <td>0.887</td>\n",
       "      <td>0.113</td>\n",
       "    </tr>\n",
       "    <tr>\n",
       "      <th>4</th>\n",
       "      <td>2021-01-16</td>\n",
       "      <td>0.1027</td>\n",
       "      <td>0.0</td>\n",
       "      <td>0.955</td>\n",
       "      <td>0.045</td>\n",
       "    </tr>\n",
       "  </tbody>\n",
       "</table>\n",
       "</div>"
      ],
      "text/plain": [
       "         date  compound  negative  neutral  positive\n",
       "0  2021-01-18    0.0000       0.0    1.000     0.000\n",
       "1  2021-01-22    0.0000       0.0    1.000     0.000\n",
       "2  2021-01-22    0.0000       0.0    1.000     0.000\n",
       "3  2021-01-20    0.4497       0.0    0.887     0.113\n",
       "4  2021-01-16    0.1027       0.0    0.955     0.045"
      ]
     },
     "execution_count": 15,
     "metadata": {},
     "output_type": "execute_result"
    }
   ],
   "source": [
    "RBC_sentiments = []\n",
    "\n",
    "for article in RBC_articles[\"articles\"]:\n",
    "    try:\n",
    "        text = article[\"content\"]\n",
    "        date = article[\"publishedAt\"][:10]\n",
    "        sentiment = analyzer.polarity_scores(text)\n",
    "        compound = sentiment[\"compound\"]\n",
    "        pos = sentiment[\"pos\"]\n",
    "        neu = sentiment[\"neu\"]\n",
    "        neg = sentiment[\"neg\"]\n",
    "        \n",
    "        RBC_sentiments.append({\n",
    "            \"text\": text,\n",
    "            \"date\": date,\n",
    "            \"compound\": compound,\n",
    "            \"positive\": pos,\n",
    "            \"negative\": neg,\n",
    "            \"neutral\": neu\n",
    "            \n",
    "        })\n",
    "        \n",
    "    except AttributeError:\n",
    "        pass\n",
    "    \n",
    "# Create DataFrame\n",
    "RBC_df = pd.DataFrame(RBC_sentiments)\n",
    "\n",
    "# Reorder DataFrame columns\n",
    "cols = [\"date\", \"compound\", \"negative\", \"neutral\", \"positive\"]\n",
    "RBC_df = RBC_df[cols]\n",
    "\n",
    "RBC_df.head()"
   ]
  },
  {
   "cell_type": "code",
   "execution_count": 16,
   "metadata": {},
   "outputs": [
    {
     "data": {
      "application/vnd.holoviews_exec.v0+json": "",
      "text/html": [
       "<div id='1116'>\n",
       "\n",
       "\n",
       "\n",
       "\n",
       "\n",
       "  <div class=\"bk-root\" id=\"703ed9cf-7f73-43d6-af3f-cbcd6f88b2da\" data-root-id=\"1116\"></div>\n",
       "</div>\n",
       "<script type=\"application/javascript\">(function(root) {\n",
       "  function embed_document(root) {\n",
       "    var docs_json = {\"f135ff12-35e4-45ba-8184-3ed7f6faa884\":{\"roots\":{\"references\":[{\"attributes\":{\"children\":[{\"id\":\"1117\"},{\"id\":\"1121\"},{\"id\":\"1189\"}],\"margin\":[0,0,0,0],\"name\":\"Row01778\",\"tags\":[\"embedded\"]},\"id\":\"1116\",\"type\":\"Row\"},{\"attributes\":{},\"id\":\"1137\",\"type\":\"SaveTool\"},{\"attributes\":{\"below\":[{\"id\":\"1130\"}],\"center\":[{\"id\":\"1132\"},{\"id\":\"1136\"},{\"id\":\"1167\"}],\"left\":[{\"id\":\"1133\"}],\"margin\":[5,5,5,5],\"min_border_bottom\":10,\"min_border_left\":10,\"min_border_right\":10,\"min_border_top\":10,\"plot_height\":300,\"plot_width\":700,\"renderers\":[{\"id\":\"1157\"}],\"right\":[{\"id\":\"1167\"}],\"sizing_mode\":\"fixed\",\"title\":{\"id\":\"1122\"},\"toolbar\":{\"id\":\"1143\"},\"x_range\":{\"id\":\"1118\"},\"x_scale\":{\"id\":\"1126\"},\"y_range\":{\"id\":\"1119\"},\"y_scale\":{\"id\":\"1128\"}},\"id\":\"1121\",\"subtype\":\"Figure\",\"type\":\"Plot\"},{\"attributes\":{\"active_drag\":\"auto\",\"active_inspect\":\"auto\",\"active_multi\":null,\"active_scroll\":\"auto\",\"active_tap\":\"auto\",\"tools\":[{\"id\":\"1120\"},{\"id\":\"1137\"},{\"id\":\"1138\"},{\"id\":\"1139\"},{\"id\":\"1140\"},{\"id\":\"1141\"}]},\"id\":\"1143\",\"type\":\"Toolbar\"},{\"attributes\":{\"bottom_units\":\"screen\",\"fill_alpha\":0.5,\"fill_color\":\"lightgrey\",\"left_units\":\"screen\",\"level\":\"overlay\",\"line_alpha\":1.0,\"line_color\":\"black\",\"line_dash\":[4,4],\"line_width\":2,\"right_units\":\"screen\",\"top_units\":\"screen\"},\"id\":\"1142\",\"type\":\"BoxAnnotation\"},{\"attributes\":{\"margin\":[5,5,5,5],\"name\":\"HSpacer01782\",\"sizing_mode\":\"stretch_width\"},\"id\":\"1117\",\"type\":\"Spacer\"},{\"attributes\":{\"text\":\"RBC\",\"text_color\":{\"value\":\"black\"},\"text_font_size\":{\"value\":\"12pt\"}},\"id\":\"1122\",\"type\":\"Title\"},{\"attributes\":{\"axis\":{\"id\":\"1133\"},\"dimension\":1,\"grid_line_color\":null,\"ticker\":null},\"id\":\"1136\",\"type\":\"Grid\"},{\"attributes\":{\"bottom\":{\"field\":\"bottom\"},\"fill_alpha\":{\"value\":0.2},\"fill_color\":{\"field\":\"Variable\",\"transform\":{\"id\":\"1150\"}},\"line_alpha\":{\"value\":0.2},\"top\":{\"field\":\"top\"},\"width\":{\"value\":0.8},\"x\":{\"field\":\"index\"}},\"id\":\"1156\",\"type\":\"VBar\"},{\"attributes\":{\"data_source\":{\"id\":\"1151\"},\"glyph\":{\"id\":\"1154\"},\"hover_glyph\":null,\"muted_glyph\":{\"id\":\"1156\"},\"nonselection_glyph\":{\"id\":\"1155\"},\"selection_glyph\":null,\"view\":{\"id\":\"1158\"}},\"id\":\"1157\",\"type\":\"GlyphRenderer\"},{\"attributes\":{\"axis_label\":\"\",\"bounds\":\"auto\",\"formatter\":{\"id\":\"1160\"},\"major_label_orientation\":1.5707963267948966,\"ticker\":{\"id\":\"1131\"}},\"id\":\"1130\",\"type\":\"CategoricalAxis\"},{\"attributes\":{\"bottom\":{\"field\":\"bottom\"},\"fill_alpha\":{\"value\":0.4},\"fill_color\":{\"field\":\"Variable\",\"transform\":{\"id\":\"1150\"}},\"line_alpha\":{\"value\":0.4},\"top\":{\"field\":\"top\"},\"width\":{\"value\":0.8},\"x\":{\"field\":\"index\"}},\"id\":\"1155\",\"type\":\"VBar\"},{\"attributes\":{\"factors\":[\"negative\",\"positive\"],\"palette\":[\"#1f77b3\",\"#ff7e0e\"]},\"id\":\"1150\",\"type\":\"CategoricalColorMapper\"},{\"attributes\":{\"overlay\":{\"id\":\"1142\"}},\"id\":\"1140\",\"type\":\"BoxZoomTool\"},{\"attributes\":{},\"id\":\"1152\",\"type\":\"Selection\"},{\"attributes\":{},\"id\":\"1139\",\"type\":\"WheelZoomTool\"},{\"attributes\":{},\"id\":\"1128\",\"type\":\"LinearScale\"},{\"attributes\":{},\"id\":\"1141\",\"type\":\"ResetTool\"},{\"attributes\":{},\"id\":\"1160\",\"type\":\"CategoricalTickFormatter\"},{\"attributes\":{},\"id\":\"1138\",\"type\":\"PanTool\"},{\"attributes\":{\"callback\":null,\"renderers\":[{\"id\":\"1157\"}],\"tags\":[\"hv_created\"],\"tooltips\":[[\"index\",\"@{index}\"],[\"Variable\",\"@{Variable}\"],[\"value\",\"@{value}\"]]},\"id\":\"1120\",\"type\":\"HoverTool\"},{\"attributes\":{\"factors\":[\"0\",\"1\",\"2\",\"3\",\"4\",\"5\",\"6\",\"7\",\"8\",\"9\",\"10\",\"11\",\"12\",\"13\",\"14\",\"15\",\"16\",\"17\",\"18\",\"19\",\"20\",\"21\",\"22\",\"23\",\"24\",\"25\",\"26\",\"27\",\"28\",\"29\",\"30\",\"31\",\"32\",\"33\",\"34\",\"35\",\"36\",\"37\",\"38\",\"39\",\"40\",\"41\",\"42\",\"43\",\"44\",\"45\",\"46\",\"47\",\"48\",\"49\",\"50\",\"51\",\"52\",\"53\",\"54\",\"55\",\"56\",\"57\",\"58\",\"59\",\"60\",\"61\",\"62\",\"63\",\"64\",\"65\",\"66\",\"67\",\"68\",\"69\",\"70\",\"71\"],\"tags\":[[[\"index\",\"index\",null]]]},\"id\":\"1118\",\"type\":\"FactorRange\"},{\"attributes\":{\"end\":0.4686,\"reset_end\":0.4686,\"reset_start\":0.0,\"tags\":[[[\"value\",\"value\",null]]]},\"id\":\"1119\",\"type\":\"Range1d\"},{\"attributes\":{},\"id\":\"1134\",\"type\":\"BasicTicker\"},{\"attributes\":{\"source\":{\"id\":\"1151\"}},\"id\":\"1158\",\"type\":\"CDSView\"},{\"attributes\":{},\"id\":\"1131\",\"type\":\"CategoricalTicker\"},{\"attributes\":{},\"id\":\"1162\",\"type\":\"BasicTickFormatter\"},{\"attributes\":{},\"id\":\"1126\",\"type\":\"CategoricalScale\"},{\"attributes\":{\"label\":{\"field\":\"Variable\"},\"renderers\":[{\"id\":\"1157\"}]},\"id\":\"1168\",\"type\":\"LegendItem\"},{\"attributes\":{\"axis_label\":\"\",\"bounds\":\"auto\",\"formatter\":{\"id\":\"1162\"},\"major_label_orientation\":\"horizontal\",\"ticker\":{\"id\":\"1134\"}},\"id\":\"1133\",\"type\":\"LinearAxis\"},{\"attributes\":{},\"id\":\"1166\",\"type\":\"UnionRenderers\"},{\"attributes\":{\"margin\":[5,5,5,5],\"name\":\"HSpacer01783\",\"sizing_mode\":\"stretch_width\"},\"id\":\"1189\",\"type\":\"Spacer\"},{\"attributes\":{\"items\":[{\"id\":\"1168\"}],\"location\":[0,0]},\"id\":\"1167\",\"type\":\"Legend\"},{\"attributes\":{\"data\":{\"Variable\":[\"negative\",\"negative\",\"negative\",\"negative\",\"negative\",\"negative\",\"negative\",\"negative\",\"negative\",\"negative\",\"negative\",\"negative\",\"negative\",\"negative\",\"negative\",\"negative\",\"negative\",\"negative\",\"negative\",\"negative\",\"negative\",\"negative\",\"negative\",\"negative\",\"negative\",\"negative\",\"negative\",\"negative\",\"negative\",\"negative\",\"negative\",\"negative\",\"negative\",\"negative\",\"negative\",\"negative\",\"negative\",\"negative\",\"negative\",\"negative\",\"negative\",\"negative\",\"negative\",\"negative\",\"negative\",\"negative\",\"negative\",\"negative\",\"negative\",\"negative\",\"negative\",\"negative\",\"negative\",\"negative\",\"negative\",\"negative\",\"negative\",\"negative\",\"negative\",\"negative\",\"negative\",\"negative\",\"negative\",\"negative\",\"negative\",\"negative\",\"negative\",\"negative\",\"negative\",\"negative\",\"negative\",\"negative\",\"positive\",\"positive\",\"positive\",\"positive\",\"positive\",\"positive\",\"positive\",\"positive\",\"positive\",\"positive\",\"positive\",\"positive\",\"positive\",\"positive\",\"positive\",\"positive\",\"positive\",\"positive\",\"positive\",\"positive\",\"positive\",\"positive\",\"positive\",\"positive\",\"positive\",\"positive\",\"positive\",\"positive\",\"positive\",\"positive\",\"positive\",\"positive\",\"positive\",\"positive\",\"positive\",\"positive\",\"positive\",\"positive\",\"positive\",\"positive\",\"positive\",\"positive\",\"positive\",\"positive\",\"positive\",\"positive\",\"positive\",\"positive\",\"positive\",\"positive\",\"positive\",\"positive\",\"positive\",\"positive\",\"positive\",\"positive\",\"positive\",\"positive\",\"positive\",\"positive\",\"positive\",\"positive\",\"positive\",\"positive\",\"positive\",\"positive\",\"positive\",\"positive\",\"positive\",\"positive\",\"positive\",\"positive\"],\"bottom\":{\"__ndarray__\":\"AAAAAAAAAAAAAAAAAAAAAAAAAAAAAAAAAAAAAAAAAAAAAAAAAAAAAAAAAAAAAAAAAAAAAAAAAAAAAAAAAAAAAAAAAAAAAAAAAAAAAAAAAAAAAAAAAAAAAAAAAAAAAAAAAAAAAAAAAAAAAAAAAAAAAAAAAAAAAAAAAAAAAAAAAAAAAAAAAAAAAAAAAAAAAAAAAAAAAAAAAAAAAAAAAAAAAAAAAAAAAAAAAAAAAAAAAAAAAAAAAAAAAAAAAAAAAAAAAAAAAAAAAAAAAAAAAAAAAAAAAAAAAAAAAAAAAAAAAAAAAAAAAAAAAAAAAAAAAAAAAAAAAAAAAAAAAAAAAAAAAAAAAAAAAAAAAAAAAAAAAAAAAAAAAAAAAAAAAAAAAAAAAAAAAAAAAAAAAAAAAAAAAAAAAAAAAAAAAAAAAAAAAAAAAAAAAAAAAAAAAAAAAAAAAAAAAAAAAAAAAAAAAAAAAAAAAAAAAAAAAAAAAAAAAAAAAAAAAAAAAAAAAAAAAAAAAAAAAAAAAAAAAAAAAAAAAAAAAAAAAAAAAAAAAAAAAAAAAAAAAAAAAAAAAAAAAAAAAAAAAAAAAAAAAAAAAAAAAAAAAAAAAAAAAAAAAAAAAAAAAAAAAAAAAAAAAAAAAAAAAAAAAAAAAAAAAAAAAAAAAAAAAAAAAAAAAAAAAAAAAAAAAAAAAAAAAAAAAAAAAAAAAAAAAAAAAAAAAAAAAAAAAAAAAAAAAAAAAAAAAAAAAAAAAAAAAAAAAAAAAAAAAAAA2c73U+Oluz/ZzvdT46W7P3npJjEIrLw/2c73U+Oluz8AAAAAAAAAAHnpJjEIrLw/2c73U+Oluz8AAAAAAAAAADm0yHa+n7o/eekmMQisvD956SYxCKy8P9nO91Pjpbs/2c73U+Oluz+cxCCwcmixP9nO91Pjpbs/AAAAAAAAAAAAAAAAAAAAAAAAAAAAAAAA2c73U+Oluz+cxCCwcmjBPwAAAAAAAAAAAAAAAAAAAAAAAAAAAAAAAAAAAAAAAAAAN4lBYOXQwj8AAAAAAAAAAAAAAAAAAAAAAAAAAAAAAAAAAAAAAAAAAAisHFpkO78/AAAAAAAAAAB56SYxCKy8PwAAAAAAAAAAAAAAAAAAAADZzvdT46W7PwAAAAAAAAAA4XoUrkfhuj8AAAAAAAAAANnO91Pjpas/AAAAAAAAAAAAAAAAAAAAAAAAAAAAAAAAnMQgsHJosT8AAAAAAAAAANNNYhBYObQ/AAAAAAAAAAAAAAAAAAAAAAAAAAAAAAAAAAAAAAAAAAAAAAAAAAAAAAAAAAAAAAAAAAAAAAAAAAAAAAAAAAAAAJzEILByaME/0SLb+X5qzD8AAAAAAAAAAEJg5dAi27k/2c73U+Oluz8AAAAAAAAAAAAAAAAAAAAA2c73U+Oluz8AAAAAAAAAAPLSTWIQWLk/KVyPwvUorD956SYxCKy8PwAAAAAAAAAAAAAAAAAAAAAfhetRuB7FPwAAAAAAAAAAAAAAAAAAAAAZBFYOLbK9PwAAAAAAAAAA\",\"dtype\":\"float64\",\"order\":\"little\",\"shape\":[144]},\"index\":[\"0\",\"51\",\"50\",\"49\",\"48\",\"47\",\"46\",\"52\",\"45\",\"43\",\"42\",\"41\",\"40\",\"39\",\"38\",\"44\",\"53\",\"54\",\"55\",\"70\",\"69\",\"68\",\"67\",\"66\",\"65\",\"64\",\"63\",\"62\",\"61\",\"60\",\"59\",\"58\",\"57\",\"56\",\"37\",\"36\",\"71\",\"34\",\"14\",\"13\",\"12\",\"11\",\"10\",\"8\",\"15\",\"7\",\"5\",\"4\",\"3\",\"2\",\"1\",\"35\",\"6\",\"16\",\"9\",\"18\",\"17\",\"32\",\"31\",\"30\",\"29\",\"27\",\"26\",\"28\",\"33\",\"24\",\"23\",\"22\",\"21\",\"20\",\"19\",\"25\",\"46\",\"50\",\"49\",\"48\",\"47\",\"45\",\"37\",\"43\",\"42\",\"41\",\"40\",\"39\",\"38\",\"51\",\"44\",\"52\",\"69\",\"54\",\"36\",\"68\",\"67\",\"66\",\"65\",\"64\",\"63\",\"62\",\"61\",\"60\",\"59\",\"58\",\"57\",\"56\",\"55\",\"53\",\"35\",\"18\",\"33\",\"12\",\"11\",\"10\",\"9\",\"8\",\"7\",\"13\",\"6\",\"4\",\"3\",\"2\",\"1\",\"0\",\"70\",\"5\",\"14\",\"15\",\"16\",\"32\",\"31\",\"30\",\"29\",\"28\",\"27\",\"26\",\"25\",\"24\",\"23\",\"22\",\"21\",\"20\",\"19\",\"17\",\"34\",\"71\"],\"top\":{\"__ndarray__\":\"AAAAAAAAAACcxCCwcmixP9nO91Pjpbs/eekmMQisvD/ZzvdT46W7PwAAAAAAAAAA2c73U+Oluz8AAAAAAAAAAHnpJjEIrLw/AAAAAAAAAAA5tMh2vp+6P3npJjEIrLw/eekmMQisvD/ZzvdT46W7P9nO91Pjpbs/2c73U+Oluz8AAAAAAAAAAAAAAAAAAAAAAAAAAAAAAAAAAAAAAAAAAAAAAAAAAAAAnMQgsHJowT8AAAAAAAAAAAAAAAAAAAAAAAAAAAAAAAAAAAAAAAAAADeJQWDl0MI/AAAAAAAAAAAAAAAAAAAAAAAAAAAAAAAAAAAAAAAAAAAIrBxaZDu/PwAAAAAAAAAAeekmMQisvD/ZzvdT46W7P9nO91Pjpbs/AAAAAAAAAAAZBFYOLbK9PwAAAAAAAAAAAAAAAAAAAAAAAAAAAAAAANnO91Pjpas/AAAAAAAAAAAAAAAAAAAAAJzEILByaME/nMQgsHJosT8AAAAAAAAAAAAAAAAAAAAAAAAAAAAAAAAAAAAAAAAAAAAAAAAAAAAA2c73U+Oluz/TTWIQWDm0P9Ei2/l+asw/AAAAAAAAAAAAAAAAAAAAAAAAAAAAAAAAAAAAAAAAAABCYOXQItu5P9nO91Pjpbs/AAAAAAAAAADZzvdT46W7PwAAAAAAAAAAAAAAAAAAAADhehSuR+G6Pylcj8L1KKw/eekmMQisvD8AAAAAAAAAAAAAAAAAAAAAH4XrUbgexT8AAAAAAAAAAPLSTWIQWLk/2c73U+Oluz/ZzvdT46W7P3npJjEIrLw/sp3vp8ZLxz9mZmZmZmbGP3npJjEIrLw/2c73U+Oluz/0/dR46SaxPzm0yHa+n7o/eekmMQisvD956SYxCKy8P9nO91Pjpbs/2c73U+Oluz9OYhBYObTIP9nO91Pjpbs/SgwCK4cWqT/8qfHSTWLAPwAAAAAAAAAA2c73U+Oluz+cxCCwcmjBP1g5tMh2vq8/pHA9CtejsD8AAAAAAAAAADvfT42XbrI/N4lBYOXQwj+6SQwCK4e2P/T91HjpJtE//Knx0k1iwD/fT42XbhLDPwisHFpkO78/AAAAAAAAAAB56SYxCKy8P3Noke18P7U/AAAAAAAAAADZzvdT46W7P5zEILByaLE/4XoUrkfhuj/6fmq8dJOoP28Sg8DKocU/y6FFtvP9xD8AAAAAAAAAADvfT42XbrI/nMQgsHJosT8v3SQGgZXTP9NNYhBYObQ/CtejcD0Kpz8hsHJoke28PwAAAAAAAAAAAAAAAAAAAAAAAAAAAAAAAAAAAAAAAAAAAAAAAAAAAACTGARWDi2yP5zEILByaME/3SQGgZVD2z9U46WbxCDQP0a28/3UeMk/2c73U+Oluz+6SQwCK4e2P2ZmZmZmZsY/2c73U+Oluz/sUbgeheuxP/LSTWIQWLk/Rbbz/dR4yT956SYxCKy8PwAAAAAAAAAA9P3UeOkm0T91kxgEVg7NP8uhRbbz/cQ/aJHtfD81rj8ZBFYOLbK9P2ZmZmZmZsY/\",\"dtype\":\"float64\",\"order\":\"little\",\"shape\":[144]},\"value\":{\"__ndarray__\":\"AAAAAAAAAACcxCCwcmixP9nO91Pjpbs/eekmMQisvD/ZzvdT46W7PwAAAAAAAAAA2c73U+Oluz8AAAAAAAAAAHnpJjEIrLw/AAAAAAAAAAA5tMh2vp+6P3npJjEIrLw/eekmMQisvD/ZzvdT46W7P9nO91Pjpbs/2c73U+Oluz8AAAAAAAAAAAAAAAAAAAAAAAAAAAAAAAAAAAAAAAAAAAAAAAAAAAAAnMQgsHJowT8AAAAAAAAAAAAAAAAAAAAAAAAAAAAAAAAAAAAAAAAAADeJQWDl0MI/AAAAAAAAAAAAAAAAAAAAAAAAAAAAAAAAAAAAAAAAAAAIrBxaZDu/PwAAAAAAAAAAeekmMQisvD/ZzvdT46W7P9nO91Pjpbs/AAAAAAAAAAAZBFYOLbK9PwAAAAAAAAAAAAAAAAAAAAAAAAAAAAAAANnO91Pjpas/AAAAAAAAAAAAAAAAAAAAAJzEILByaME/nMQgsHJosT8AAAAAAAAAAAAAAAAAAAAAAAAAAAAAAAAAAAAAAAAAAAAAAAAAAAAA2c73U+Oluz/TTWIQWDm0P9Ei2/l+asw/AAAAAAAAAAAAAAAAAAAAAAAAAAAAAAAAAAAAAAAAAABCYOXQItu5P9nO91Pjpbs/AAAAAAAAAADZzvdT46W7PwAAAAAAAAAAAAAAAAAAAADhehSuR+G6Pylcj8L1KKw/eekmMQisvD8AAAAAAAAAAAAAAAAAAAAAH4XrUbgexT8AAAAAAAAAAPLSTWIQWLk/AAAAAAAAAAAAAAAAAAAAAAAAAAAAAAAAi2zn+6nxsj9mZmZmZmbGPwAAAAAAAAAAAAAAAAAAAAD0/dR46SaxPwAAAAAAAAAAAAAAAAAAAAAAAAAAAAAAAAAAAAAAAAAAAAAAAAAAAAAAAAAAAADAPwAAAAAAAAAASgwCK4cWqT/8qfHSTWLAPwAAAAAAAAAAAAAAAAAAAAAAAAAAAAAAAFg5tMh2vq8/pHA9CtejsD8AAAAAAAAAADvfT42XbrI/AAAAAAAAAAC6SQwCK4e2P/T91HjpJtE//Knx0k1iwD/fT42XbhLDPwAAAAAAAAAAAAAAAAAAAAAAAAAAAAAAAHNoke18P7U/AAAAAAAAAAAAAAAAAAAAAJzEILByaLE/AAAAAAAAAAD6fmq8dJOoP3E9CtejcL0/y6FFtvP9xD8AAAAAAAAAADvfT42XbrI/AAAAAAAAAAAv3SQGgZXTPwAAAAAAAAAACtejcD0Kpz8hsHJoke28PwAAAAAAAAAAAAAAAAAAAAAAAAAAAAAAAAAAAAAAAAAAAAAAAAAAAACTGARWDi2yPwAAAAAAAAAA6SYxCKwcyj9U46WbxCDQP0oMAiuHFrk/AAAAAAAAAAC6SQwCK4e2P2ZmZmZmZsY/AAAAAAAAAADsUbgeheuxPwAAAAAAAAAAO99PjZduwj8AAAAAAAAAAAAAAAAAAAAA9P3UeOkm0T9YObTIdr6vP8uhRbbz/cQ/aJHtfD81rj8AAAAAAAAAAGZmZmZmZsY/\",\"dtype\":\"float64\",\"order\":\"little\",\"shape\":[144]}},\"selected\":{\"id\":\"1152\"},\"selection_policy\":{\"id\":\"1166\"}},\"id\":\"1151\",\"type\":\"ColumnDataSource\"},{\"attributes\":{\"bottom\":{\"field\":\"bottom\"},\"fill_alpha\":{\"value\":0.4},\"fill_color\":{\"field\":\"Variable\",\"transform\":{\"id\":\"1150\"}},\"line_alpha\":{\"value\":0.4},\"top\":{\"field\":\"top\"},\"width\":{\"value\":0.8},\"x\":{\"field\":\"index\"}},\"id\":\"1154\",\"type\":\"VBar\"},{\"attributes\":{\"axis\":{\"id\":\"1130\"},\"grid_line_color\":null,\"ticker\":null},\"id\":\"1132\",\"type\":\"Grid\"}],\"root_ids\":[\"1116\"]},\"title\":\"Bokeh Application\",\"version\":\"2.2.3\"}};\n",
       "    var render_items = [{\"docid\":\"f135ff12-35e4-45ba-8184-3ed7f6faa884\",\"root_ids\":[\"1116\"],\"roots\":{\"1116\":\"703ed9cf-7f73-43d6-af3f-cbcd6f88b2da\"}}];\n",
       "    root.Bokeh.embed.embed_items_notebook(docs_json, render_items);\n",
       "  }\n",
       "  if (root.Bokeh !== undefined && root.Bokeh.Panel !== undefined && root['Plotly'] !== undefined ) {\n",
       "    embed_document(root);\n",
       "  } else {\n",
       "    var attempts = 0;\n",
       "    var timer = setInterval(function(root) {\n",
       "      if (root.Bokeh !== undefined && root.Bokeh.Panel !== undefined && root['Plotly'] !== undefined) {\n",
       "        clearInterval(timer);\n",
       "        embed_document(root);\n",
       "      } else if (document.readyState == \"complete\") {\n",
       "        attempts++;\n",
       "        if (attempts > 100) {\n",
       "          clearInterval(timer);\n",
       "          console.log(\"Bokeh: ERROR: Unable to run BokehJS code because BokehJS library is missing\");\n",
       "        }\n",
       "      }\n",
       "    }, 10, root)\n",
       "  }\n",
       "})(window);</script>"
      ],
      "text/plain": [
       ":Bars   [index,Variable]   (value)"
      ]
     },
     "execution_count": 16,
     "metadata": {
      "application/vnd.holoviews_exec.v0+json": {
       "id": "1116"
      }
     },
     "output_type": "execute_result"
    }
   ],
   "source": [
    "RBC_plot = RBC_df.hvplot.bar(x='index', y=['negative', 'positive'], stacked=True, alpha=0.4, rot =90, title=\"RBC\")\n",
    "RBC_plot"
   ]
  },
  {
   "cell_type": "code",
   "execution_count": 17,
   "metadata": {},
   "outputs": [
    {
     "data": {
      "text/html": [
       "<div>\n",
       "<style scoped>\n",
       "    .dataframe tbody tr th:only-of-type {\n",
       "        vertical-align: middle;\n",
       "    }\n",
       "\n",
       "    .dataframe tbody tr th {\n",
       "        vertical-align: top;\n",
       "    }\n",
       "\n",
       "    .dataframe thead th {\n",
       "        text-align: right;\n",
       "    }\n",
       "</style>\n",
       "<table border=\"1\" class=\"dataframe\">\n",
       "  <thead>\n",
       "    <tr style=\"text-align: right;\">\n",
       "      <th></th>\n",
       "      <th>Total</th>\n",
       "    </tr>\n",
       "  </thead>\n",
       "  <tbody>\n",
       "    <tr>\n",
       "      <th>negative</th>\n",
       "      <td>3.637</td>\n",
       "    </tr>\n",
       "    <tr>\n",
       "      <th>positive</th>\n",
       "      <td>4.294</td>\n",
       "    </tr>\n",
       "  </tbody>\n",
       "</table>\n",
       "</div>"
      ],
      "text/plain": [
       "          Total\n",
       "negative  3.637\n",
       "positive  4.294"
      ]
     },
     "execution_count": 17,
     "metadata": {},
     "output_type": "execute_result"
    }
   ],
   "source": [
    "sum1_df= RBC_df.sum(axis=0)\n",
    "combined1= pd.DataFrame(sum1_df).rename(columns = {0:\"Total\"}) \n",
    "combined1=combined1.drop(['date','compound','neutral'])\n",
    "combined1"
   ]
  },
  {
   "cell_type": "code",
   "execution_count": 18,
   "metadata": {},
   "outputs": [
    {
     "data": {
      "text/plain": [
       "<AxesSubplot:title={'center':'RBC'}, ylabel='Total'>"
      ]
     },
     "execution_count": 18,
     "metadata": {},
     "output_type": "execute_result"
    },
    {
     "data": {
      "image/png": "[encoded data removed]",
      "text/plain": [
       "<Figure size 432x288 with 1 Axes>"
      ]
     },
     "metadata": {},
     "output_type": "display_data"
    }
   ],
   "source": [
    "combined1_plot = combined1.plot.pie(y=\"Total\", title=\"RBC\", autopct='%.0f%%')\n",
    "combined1_plot"
   ]
  },
  {
   "cell_type": "code",
   "execution_count": 19,
   "metadata": {},
   "outputs": [
    {
     "data": {
      "text/html": [
       "<div>\n",
       "<style scoped>\n",
       "    .dataframe tbody tr th:only-of-type {\n",
       "        vertical-align: middle;\n",
       "    }\n",
       "\n",
       "    .dataframe tbody tr th {\n",
       "        vertical-align: top;\n",
       "    }\n",
       "\n",
       "    .dataframe thead th {\n",
       "        text-align: right;\n",
       "    }\n",
       "</style>\n",
       "<table border=\"1\" class=\"dataframe\">\n",
       "  <thead>\n",
       "    <tr style=\"text-align: right;\">\n",
       "      <th></th>\n",
       "      <th>date</th>\n",
       "      <th>compound</th>\n",
       "      <th>negative</th>\n",
       "      <th>neutral</th>\n",
       "      <th>positive</th>\n",
       "    </tr>\n",
       "  </thead>\n",
       "  <tbody>\n",
       "    <tr>\n",
       "      <th>0</th>\n",
       "      <td>2021-01-18</td>\n",
       "      <td>0.0000</td>\n",
       "      <td>0.000</td>\n",
       "      <td>1.000</td>\n",
       "      <td>0.000</td>\n",
       "    </tr>\n",
       "    <tr>\n",
       "      <th>1</th>\n",
       "      <td>2021-01-20</td>\n",
       "      <td>0.5994</td>\n",
       "      <td>0.082</td>\n",
       "      <td>0.706</td>\n",
       "      <td>0.212</td>\n",
       "    </tr>\n",
       "    <tr>\n",
       "      <th>2</th>\n",
       "      <td>2021-01-19</td>\n",
       "      <td>-0.1280</td>\n",
       "      <td>0.095</td>\n",
       "      <td>0.852</td>\n",
       "      <td>0.053</td>\n",
       "    </tr>\n",
       "    <tr>\n",
       "      <th>3</th>\n",
       "      <td>2021-01-19</td>\n",
       "      <td>-0.1280</td>\n",
       "      <td>0.095</td>\n",
       "      <td>0.852</td>\n",
       "      <td>0.053</td>\n",
       "    </tr>\n",
       "    <tr>\n",
       "      <th>4</th>\n",
       "      <td>2021-01-19</td>\n",
       "      <td>-0.1280</td>\n",
       "      <td>0.095</td>\n",
       "      <td>0.852</td>\n",
       "      <td>0.053</td>\n",
       "    </tr>\n",
       "  </tbody>\n",
       "</table>\n",
       "</div>"
      ],
      "text/plain": [
       "         date  compound  negative  neutral  positive\n",
       "0  2021-01-18    0.0000     0.000    1.000     0.000\n",
       "1  2021-01-20    0.5994     0.082    0.706     0.212\n",
       "2  2021-01-19   -0.1280     0.095    0.852     0.053\n",
       "3  2021-01-19   -0.1280     0.095    0.852     0.053\n",
       "4  2021-01-19   -0.1280     0.095    0.852     0.053"
      ]
     },
     "execution_count": 19,
     "metadata": {},
     "output_type": "execute_result"
    }
   ],
   "source": [
    "enbridge_sentiments = []\n",
    "\n",
    "for article in enbridge_articles[\"articles\"]:\n",
    "    try:\n",
    "        text = article[\"content\"]\n",
    "        date = article[\"publishedAt\"][:10]\n",
    "        sentiment = analyzer.polarity_scores(text)\n",
    "        compound = sentiment[\"compound\"]\n",
    "        pos = sentiment[\"pos\"]\n",
    "        neu = sentiment[\"neu\"]\n",
    "        neg = sentiment[\"neg\"]\n",
    "        \n",
    "        enbridge_sentiments.append({\n",
    "            \"text\": text,\n",
    "            \"date\": date,\n",
    "            \"compound\": compound,\n",
    "            \"positive\": pos,\n",
    "            \"negative\": neg,\n",
    "            \"neutral\": neu\n",
    "            \n",
    "        })\n",
    "        \n",
    "    except AttributeError:\n",
    "        pass\n",
    "    \n",
    "# Create DataFrame\n",
    "enbridge_df = pd.DataFrame(enbridge_sentiments)\n",
    "\n",
    "# Reorder DataFrame columns\n",
    "cols = [\"date\", \"compound\", \"negative\", \"neutral\", \"positive\"]\n",
    "enbridge_df = enbridge_df[cols]\n",
    "\n",
    "enbridge_df.head()"
   ]
  },
  {
   "cell_type": "code",
   "execution_count": 20,
   "metadata": {},
   "outputs": [
    {
     "data": {
      "application/vnd.holoviews_exec.v0+json": "",
      "text/html": [
       "<div id='1231'>\n",
       "\n",
       "\n",
       "\n",
       "\n",
       "\n",
       "  <div class=\"bk-root\" id=\"7f1b15c6-c6a1-4d40-ac31-8c31dd21ee38\" data-root-id=\"1231\"></div>\n",
       "</div>\n",
       "<script type=\"application/javascript\">(function(root) {\n",
       "  function embed_document(root) {\n",
       "    var docs_json = {\"4a1c6f69-9e01-4724-9326-a57cf08de31a\":{\"roots\":{\"references\":[{\"attributes\":{\"data\":{\"Variable\":[\"negative\",\"negative\",\"negative\",\"negative\",\"negative\",\"negative\",\"negative\",\"negative\",\"negative\",\"negative\",\"negative\",\"negative\",\"negative\",\"negative\",\"negative\",\"negative\",\"negative\",\"negative\",\"negative\",\"negative\",\"negative\",\"negative\",\"negative\",\"negative\",\"negative\",\"negative\",\"negative\",\"negative\",\"positive\",\"positive\",\"positive\",\"positive\",\"positive\",\"positive\",\"positive\",\"positive\",\"positive\",\"positive\",\"positive\",\"positive\",\"positive\",\"positive\",\"positive\",\"positive\",\"positive\",\"positive\",\"positive\",\"positive\",\"positive\",\"positive\",\"positive\",\"positive\",\"positive\",\"positive\",\"positive\",\"positive\"],\"bottom\":{\"__ndarray__\":\"AAAAAAAAAAAAAAAAAAAAAAAAAAAAAAAAAAAAAAAAAAAAAAAAAAAAAAAAAAAAAAAAAAAAAAAAAAAAAAAAAAAAAAAAAAAAAAAAAAAAAAAAAAAAAAAAAAAAAAAAAAAAAAAAAAAAAAAAAAAAAAAAAAAAAAAAAAAAAAAAAAAAAAAAAAAAAAAAAAAAAAAAAAAAAAAAAAAAAAAAAAAAAAAAAAAAAAAAAAAAAAAAAAAAAAAAAAAAAAAAAAAAAAAAAAAAAAAAAAAAAAAAAAAAAAAAAAAAAAAAAAAAAAAAAAAAAAAAAAAAAAAAAAAAAMuhRbbz/cQ/y6FFtvP9xD8AAAAAAAAAAAAAAAAAAAAAAAAAAAAAAAAAAAAAAAAAAAAAAAAAAAAAAAAAAAAAAAAAAAAAAAAAAAisHFpkO68/AAAAAAAAAADLoUW28/3EPwAAAAAAAAAAy6FFtvP9xD/LoUW28/3EPwAAAAAAAAAAy6FFtvP9xD/ZzvdT46WrP8dLN4lBYMU/UrgehetRuD9SuB6F61G4P1K4HoXrUbg/y6FFtvP9tD8AAAAAAAAAAAAAAAAAAAAAy6FFtvP9xD8AAAAAAAAAAA==\",\"dtype\":\"float64\",\"order\":\"little\",\"shape\":[56]},\"index\":[\"0\",\"26\",\"25\",\"24\",\"23\",\"22\",\"21\",\"20\",\"19\",\"18\",\"17\",\"16\",\"15\",\"14\",\"27\",\"12\",\"13\",\"1\",\"2\",\"3\",\"5\",\"4\",\"7\",\"8\",\"9\",\"10\",\"11\",\"6\",\"18\",\"15\",\"16\",\"17\",\"19\",\"25\",\"21\",\"22\",\"23\",\"24\",\"14\",\"20\",\"13\",\"7\",\"11\",\"10\",\"9\",\"8\",\"6\",\"5\",\"4\",\"3\",\"2\",\"1\",\"0\",\"26\",\"12\",\"27\"],\"top\":{\"__ndarray__\":\"AAAAAAAAAAAAAAAAAAAAAAAAAAAAAAAAAAAAAAAAAAAAAAAAAAAAAAAAAAAAAAAAAAAAAAAAAAAAAAAAAAAAAAAAAAAAAAAAAAAAAAAAAAAAAAAAAAAAAMuhRbbz/cQ/y6FFtvP9xD8IrBxaZDuvPwAAAAAAAAAAy6FFtvP9xD/LoUW28/3EP8uhRbbz/bQ/UrgehetRuD9SuB6F61G4P8dLN4lBYMU/UrgehetRuD8AAAAAAAAAAMuhRbbz/cQ/AAAAAAAAAADLoUW28/3EP8uhRbbz/cQ/2c73U+Olqz9YObTIdr6vP/p+arx0k9A/+n5qvHST0D8Sg8DKoUW2P0jhehSuR8E/AAAAAAAAAACyne+nxku3PwAAAAAAAAAAsp3vp8ZLtz+DwMqhRbbDP46XbhKDwNI/XrpJDAIrxz/6fmq8dJPQPzm0yHa+n6o/+n5qvHST0D/6fmq8dJPQPwAAAAAAAAAA+n5qvHST0D9vEoPAyqHFP8dLN4lBYMU/i2zn+6nxwj+LbOf7qfHCP4ts5/up8cI/N4lBYOXQ0j8AAAAAAAAAAHsUrkfheqQ/+n5qvHST0D97FK5H4XqkPw==\",\"dtype\":\"float64\",\"order\":\"little\",\"shape\":[56]},\"value\":{\"__ndarray__\":\"AAAAAAAAAAAAAAAAAAAAAAAAAAAAAAAAAAAAAAAAAAAAAAAAAAAAAAAAAAAAAAAAAAAAAAAAAAAAAAAAAAAAAAAAAAAAAAAAAAAAAAAAAAAAAAAAAAAAAMuhRbbz/cQ/y6FFtvP9xD8IrBxaZDuvPwAAAAAAAAAAy6FFtvP9xD/LoUW28/3EP8uhRbbz/bQ/UrgehetRuD9SuB6F61G4P8dLN4lBYMU/UrgehetRuD8AAAAAAAAAAMuhRbbz/cQ/AAAAAAAAAADLoUW28/3EP8uhRbbz/cQ/2c73U+Olqz9YObTIdr6vP1K4HoXrUbg/UrgehetRuD8Sg8DKoUW2P0jhehSuR8E/AAAAAAAAAACyne+nxku3PwAAAAAAAAAAsp3vp8ZLtz+DwMqhRbbDPxkEVg4tss0/XrpJDAIrxz9SuB6F61G4Pzm0yHa+n6o/UrgehetRuD9SuB6F61G4PwAAAAAAAAAAUrgehetRuD9xPQrXo3C9PwAAAAAAAAAAiUFg5dAiqz+JQWDl0CKrP4lBYOXQIqs/iUFg5dAiyz8AAAAAAAAAAHsUrkfheqQ/UrgehetRuD97FK5H4XqkPw==\",\"dtype\":\"float64\",\"order\":\"little\",\"shape\":[56]}},\"selected\":{\"id\":\"1267\"},\"selection_policy\":{\"id\":\"1281\"}},\"id\":\"1266\",\"type\":\"ColumnDataSource\"},{\"attributes\":{\"bottom_units\":\"screen\",\"fill_alpha\":0.5,\"fill_color\":\"lightgrey\",\"left_units\":\"screen\",\"level\":\"overlay\",\"line_alpha\":1.0,\"line_color\":\"black\",\"line_dash\":[4,4],\"line_width\":2,\"right_units\":\"screen\",\"top_units\":\"screen\"},\"id\":\"1257\",\"type\":\"BoxAnnotation\"},{\"attributes\":{\"items\":[{\"id\":\"1283\"}],\"location\":[0,0]},\"id\":\"1282\",\"type\":\"Legend\"},{\"attributes\":{},\"id\":\"1241\",\"type\":\"CategoricalScale\"},{\"attributes\":{},\"id\":\"1252\",\"type\":\"SaveTool\"},{\"attributes\":{\"active_drag\":\"auto\",\"active_inspect\":\"auto\",\"active_multi\":null,\"active_scroll\":\"auto\",\"active_tap\":\"auto\",\"tools\":[{\"id\":\"1235\"},{\"id\":\"1252\"},{\"id\":\"1253\"},{\"id\":\"1254\"},{\"id\":\"1255\"},{\"id\":\"1256\"}]},\"id\":\"1258\",\"type\":\"Toolbar\"},{\"attributes\":{},\"id\":\"1277\",\"type\":\"BasicTickFormatter\"},{\"attributes\":{\"children\":[{\"id\":\"1232\"},{\"id\":\"1236\"},{\"id\":\"1304\"}],\"margin\":[0,0,0,0],\"name\":\"Row02028\",\"tags\":[\"embedded\"]},\"id\":\"1231\",\"type\":\"Row\"},{\"attributes\":{\"data_source\":{\"id\":\"1266\"},\"glyph\":{\"id\":\"1269\"},\"hover_glyph\":null,\"muted_glyph\":{\"id\":\"1271\"},\"nonselection_glyph\":{\"id\":\"1270\"},\"selection_glyph\":null,\"view\":{\"id\":\"1273\"}},\"id\":\"1272\",\"type\":\"GlyphRenderer\"},{\"attributes\":{\"axis\":{\"id\":\"1248\"},\"dimension\":1,\"grid_line_color\":null,\"ticker\":null},\"id\":\"1251\",\"type\":\"Grid\"},{\"attributes\":{\"margin\":[5,5,5,5],\"name\":\"HSpacer02033\",\"sizing_mode\":\"stretch_width\"},\"id\":\"1304\",\"type\":\"Spacer\"},{\"attributes\":{\"callback\":null,\"renderers\":[{\"id\":\"1272\"}],\"tags\":[\"hv_created\"],\"tooltips\":[[\"index\",\"@{index}\"],[\"Variable\",\"@{Variable}\"],[\"value\",\"@{value}\"]]},\"id\":\"1235\",\"type\":\"HoverTool\"},{\"attributes\":{\"overlay\":{\"id\":\"1257\"}},\"id\":\"1255\",\"type\":\"BoxZoomTool\"},{\"attributes\":{},\"id\":\"1249\",\"type\":\"BasicTicker\"},{\"attributes\":{},\"id\":\"1254\",\"type\":\"WheelZoomTool\"},{\"attributes\":{\"factors\":[\"negative\",\"positive\"],\"palette\":[\"#1f77b3\",\"#ff7e0e\"]},\"id\":\"1265\",\"type\":\"CategoricalColorMapper\"},{\"attributes\":{\"bottom\":{\"field\":\"bottom\"},\"fill_alpha\":{\"value\":0.4},\"fill_color\":{\"field\":\"Variable\",\"transform\":{\"id\":\"1265\"}},\"line_alpha\":{\"value\":0.4},\"top\":{\"field\":\"top\"},\"width\":{\"value\":0.8},\"x\":{\"field\":\"index\"}},\"id\":\"1270\",\"type\":\"VBar\"},{\"attributes\":{\"bottom\":{\"field\":\"bottom\"},\"fill_alpha\":{\"value\":0.2},\"fill_color\":{\"field\":\"Variable\",\"transform\":{\"id\":\"1265\"}},\"line_alpha\":{\"value\":0.2},\"top\":{\"field\":\"top\"},\"width\":{\"value\":0.8},\"x\":{\"field\":\"index\"}},\"id\":\"1271\",\"type\":\"VBar\"},{\"attributes\":{},\"id\":\"1253\",\"type\":\"PanTool\"},{\"attributes\":{\"source\":{\"id\":\"1266\"}},\"id\":\"1273\",\"type\":\"CDSView\"},{\"attributes\":{\"bottom\":{\"field\":\"bottom\"},\"fill_alpha\":{\"value\":0.4},\"fill_color\":{\"field\":\"Variable\",\"transform\":{\"id\":\"1265\"}},\"line_alpha\":{\"value\":0.4},\"top\":{\"field\":\"top\"},\"width\":{\"value\":0.8},\"x\":{\"field\":\"index\"}},\"id\":\"1269\",\"type\":\"VBar\"},{\"attributes\":{},\"id\":\"1281\",\"type\":\"UnionRenderers\"},{\"attributes\":{\"end\":0.32339999999999997,\"reset_end\":0.32339999999999997,\"reset_start\":0.0,\"tags\":[[[\"value\",\"value\",null]]]},\"id\":\"1234\",\"type\":\"Range1d\"},{\"attributes\":{\"axis_label\":\"\",\"bounds\":\"auto\",\"formatter\":{\"id\":\"1275\"},\"major_label_orientation\":1.5707963267948966,\"ticker\":{\"id\":\"1246\"}},\"id\":\"1245\",\"type\":\"CategoricalAxis\"},{\"attributes\":{\"margin\":[5,5,5,5],\"name\":\"HSpacer02032\",\"sizing_mode\":\"stretch_width\"},\"id\":\"1232\",\"type\":\"Spacer\"},{\"attributes\":{},\"id\":\"1256\",\"type\":\"ResetTool\"},{\"attributes\":{\"axis\":{\"id\":\"1245\"},\"grid_line_color\":null,\"ticker\":null},\"id\":\"1247\",\"type\":\"Grid\"},{\"attributes\":{},\"id\":\"1275\",\"type\":\"CategoricalTickFormatter\"},{\"attributes\":{\"below\":[{\"id\":\"1245\"}],\"center\":[{\"id\":\"1247\"},{\"id\":\"1251\"},{\"id\":\"1282\"}],\"left\":[{\"id\":\"1248\"}],\"margin\":[5,5,5,5],\"min_border_bottom\":10,\"min_border_left\":10,\"min_border_right\":10,\"min_border_top\":10,\"plot_height\":300,\"plot_width\":700,\"renderers\":[{\"id\":\"1272\"}],\"right\":[{\"id\":\"1282\"}],\"sizing_mode\":\"fixed\",\"title\":{\"id\":\"1237\"},\"toolbar\":{\"id\":\"1258\"},\"x_range\":{\"id\":\"1233\"},\"x_scale\":{\"id\":\"1241\"},\"y_range\":{\"id\":\"1234\"},\"y_scale\":{\"id\":\"1243\"}},\"id\":\"1236\",\"subtype\":\"Figure\",\"type\":\"Plot\"},{\"attributes\":{},\"id\":\"1246\",\"type\":\"CategoricalTicker\"},{\"attributes\":{},\"id\":\"1243\",\"type\":\"LinearScale\"},{\"attributes\":{},\"id\":\"1267\",\"type\":\"Selection\"},{\"attributes\":{\"factors\":[\"0\",\"1\",\"2\",\"3\",\"4\",\"5\",\"6\",\"7\",\"8\",\"9\",\"10\",\"11\",\"12\",\"13\",\"14\",\"15\",\"16\",\"17\",\"18\",\"19\",\"20\",\"21\",\"22\",\"23\",\"24\",\"25\",\"26\",\"27\"],\"tags\":[[[\"index\",\"index\",null]]]},\"id\":\"1233\",\"type\":\"FactorRange\"},{\"attributes\":{\"label\":{\"field\":\"Variable\"},\"renderers\":[{\"id\":\"1272\"}]},\"id\":\"1283\",\"type\":\"LegendItem\"},{\"attributes\":{\"text\":\"Enbridge\",\"text_color\":{\"value\":\"black\"},\"text_font_size\":{\"value\":\"12pt\"}},\"id\":\"1237\",\"type\":\"Title\"},{\"attributes\":{\"axis_label\":\"\",\"bounds\":\"auto\",\"formatter\":{\"id\":\"1277\"},\"major_label_orientation\":\"horizontal\",\"ticker\":{\"id\":\"1249\"}},\"id\":\"1248\",\"type\":\"LinearAxis\"}],\"root_ids\":[\"1231\"]},\"title\":\"Bokeh Application\",\"version\":\"2.2.3\"}};\n",
       "    var render_items = [{\"docid\":\"4a1c6f69-9e01-4724-9326-a57cf08de31a\",\"root_ids\":[\"1231\"],\"roots\":{\"1231\":\"7f1b15c6-c6a1-4d40-ac31-8c31dd21ee38\"}}];\n",
       "    root.Bokeh.embed.embed_items_notebook(docs_json, render_items);\n",
       "  }\n",
       "  if (root.Bokeh !== undefined && root.Bokeh.Panel !== undefined && root['Plotly'] !== undefined ) {\n",
       "    embed_document(root);\n",
       "  } else {\n",
       "    var attempts = 0;\n",
       "    var timer = setInterval(function(root) {\n",
       "      if (root.Bokeh !== undefined && root.Bokeh.Panel !== undefined && root['Plotly'] !== undefined) {\n",
       "        clearInterval(timer);\n",
       "        embed_document(root);\n",
       "      } else if (document.readyState == \"complete\") {\n",
       "        attempts++;\n",
       "        if (attempts > 100) {\n",
       "          clearInterval(timer);\n",
       "          console.log(\"Bokeh: ERROR: Unable to run BokehJS code because BokehJS library is missing\");\n",
       "        }\n",
       "      }\n",
       "    }, 10, root)\n",
       "  }\n",
       "})(window);</script>"
      ],
      "text/plain": [
       ":Bars   [index,Variable]   (value)"
      ]
     },
     "execution_count": 20,
     "metadata": {
      "application/vnd.holoviews_exec.v0+json": {
       "id": "1231"
      }
     },
     "output_type": "execute_result"
    }
   ],
   "source": [
    "enbridge_plot = enbridge_df.hvplot.bar(x='index', y=['negative', 'positive'], stacked=True, alpha=0.4, rot =90, title=\"Enbridge\")\n",
    "enbridge_plot"
   ]
  },
  {
   "cell_type": "code",
   "execution_count": 21,
   "metadata": {},
   "outputs": [
    {
     "data": {
      "text/html": [
       "<div>\n",
       "<style scoped>\n",
       "    .dataframe tbody tr th:only-of-type {\n",
       "        vertical-align: middle;\n",
       "    }\n",
       "\n",
       "    .dataframe tbody tr th {\n",
       "        vertical-align: top;\n",
       "    }\n",
       "\n",
       "    .dataframe thead th {\n",
       "        text-align: right;\n",
       "    }\n",
       "</style>\n",
       "<table border=\"1\" class=\"dataframe\">\n",
       "  <thead>\n",
       "    <tr style=\"text-align: right;\">\n",
       "      <th></th>\n",
       "      <th>Total</th>\n",
       "    </tr>\n",
       "  </thead>\n",
       "  <tbody>\n",
       "    <tr>\n",
       "      <th>negative</th>\n",
       "      <td>1.797</td>\n",
       "    </tr>\n",
       "    <tr>\n",
       "      <th>positive</th>\n",
       "      <td>2.316</td>\n",
       "    </tr>\n",
       "  </tbody>\n",
       "</table>\n",
       "</div>"
      ],
      "text/plain": [
       "          Total\n",
       "negative  1.797\n",
       "positive  2.316"
      ]
     },
     "execution_count": 21,
     "metadata": {},
     "output_type": "execute_result"
    }
   ],
   "source": [
    "sum2_df= enbridge_df.sum(axis=0)\n",
    "combined2= pd.DataFrame(sum2_df).rename(columns = {0:\"Total\"}) \n",
    "combined2=combined2.drop(['date','compound','neutral'])\n",
    "combined2"
   ]
  },
  {
   "cell_type": "code",
   "execution_count": 22,
   "metadata": {},
   "outputs": [
    {
     "data": {
      "text/plain": [
       "<AxesSubplot:title={'center':'Enbridge'}, ylabel='Total'>"
      ]
     },
     "execution_count": 22,
     "metadata": {},
     "output_type": "execute_result"
    },
    {
     "data": {
      "image/png": "[encoded data removed]",
      "text/plain": [
       "<Figure size 432x288 with 1 Axes>"
      ]
     },
     "metadata": {},
     "output_type": "display_data"
    }
   ],
   "source": [
    "combined2_plot = combined2.plot.pie(y=\"Total\", title=\"Enbridge\", autopct='%.0f%%')\n",
    "combined2_plot "
   ]
  },
  {
   "cell_type": "code",
   "execution_count": 23,
   "metadata": {},
   "outputs": [
    {
     "data": {
      "text/html": [
       "<div>\n",
       "<style scoped>\n",
       "    .dataframe tbody tr th:only-of-type {\n",
       "        vertical-align: middle;\n",
       "    }\n",
       "\n",
       "    .dataframe tbody tr th {\n",
       "        vertical-align: top;\n",
       "    }\n",
       "\n",
       "    .dataframe thead th {\n",
       "        text-align: right;\n",
       "    }\n",
       "</style>\n",
       "<table border=\"1\" class=\"dataframe\">\n",
       "  <thead>\n",
       "    <tr style=\"text-align: right;\">\n",
       "      <th></th>\n",
       "      <th>date</th>\n",
       "      <th>compound</th>\n",
       "      <th>negative</th>\n",
       "      <th>neutral</th>\n",
       "      <th>positive</th>\n",
       "    </tr>\n",
       "  </thead>\n",
       "  <tbody>\n",
       "    <tr>\n",
       "      <th>0</th>\n",
       "      <td>2021-01-19</td>\n",
       "      <td>0.3182</td>\n",
       "      <td>0.056</td>\n",
       "      <td>0.850</td>\n",
       "      <td>0.094</td>\n",
       "    </tr>\n",
       "    <tr>\n",
       "      <th>1</th>\n",
       "      <td>2021-01-22</td>\n",
       "      <td>-0.7003</td>\n",
       "      <td>0.171</td>\n",
       "      <td>0.829</td>\n",
       "      <td>0.000</td>\n",
       "    </tr>\n",
       "    <tr>\n",
       "      <th>2</th>\n",
       "      <td>2021-01-19</td>\n",
       "      <td>0.5859</td>\n",
       "      <td>0.000</td>\n",
       "      <td>0.858</td>\n",
       "      <td>0.142</td>\n",
       "    </tr>\n",
       "    <tr>\n",
       "      <th>3</th>\n",
       "      <td>2021-01-16</td>\n",
       "      <td>0.1531</td>\n",
       "      <td>0.093</td>\n",
       "      <td>0.825</td>\n",
       "      <td>0.082</td>\n",
       "    </tr>\n",
       "    <tr>\n",
       "      <th>4</th>\n",
       "      <td>2021-01-19</td>\n",
       "      <td>0.5473</td>\n",
       "      <td>0.000</td>\n",
       "      <td>0.898</td>\n",
       "      <td>0.102</td>\n",
       "    </tr>\n",
       "  </tbody>\n",
       "</table>\n",
       "</div>"
      ],
      "text/plain": [
       "         date  compound  negative  neutral  positive\n",
       "0  2021-01-19    0.3182     0.056    0.850     0.094\n",
       "1  2021-01-22   -0.7003     0.171    0.829     0.000\n",
       "2  2021-01-19    0.5859     0.000    0.858     0.142\n",
       "3  2021-01-16    0.1531     0.093    0.825     0.082\n",
       "4  2021-01-19    0.5473     0.000    0.898     0.102"
      ]
     },
     "execution_count": 23,
     "metadata": {},
     "output_type": "execute_result"
    }
   ],
   "source": [
    "barrick_sentiments = []\n",
    "\n",
    "for article in barrick_articles[\"articles\"]:\n",
    "    try:\n",
    "        text = article[\"content\"]\n",
    "        date = article[\"publishedAt\"][:10]\n",
    "        sentiment = analyzer.polarity_scores(text)\n",
    "        compound = sentiment[\"compound\"]\n",
    "        pos = sentiment[\"pos\"]\n",
    "        neu = sentiment[\"neu\"]\n",
    "        neg = sentiment[\"neg\"]\n",
    "        \n",
    "        barrick_sentiments.append({\n",
    "            \"text\": text,\n",
    "            \"date\": date,\n",
    "            \"compound\": compound,\n",
    "            \"positive\": pos,\n",
    "            \"negative\": neg,\n",
    "            \"neutral\": neu\n",
    "            \n",
    "        })\n",
    "        \n",
    "    except AttributeError:\n",
    "        pass\n",
    "    \n",
    "# Create DataFrame\n",
    "barrick_df = pd.DataFrame(barrick_sentiments)\n",
    "\n",
    "# Reorder DataFrame columns\n",
    "cols = [\"date\", \"compound\", \"negative\", \"neutral\", \"positive\"]\n",
    "barrick_df = barrick_df[cols]\n",
    "\n",
    "barrick_df.head()"
   ]
  },
  {
   "cell_type": "code",
   "execution_count": 24,
   "metadata": {},
   "outputs": [
    {
     "data": {
      "application/vnd.holoviews_exec.v0+json": "",
      "text/html": [
       "<div id='1346'>\n",
       "\n",
       "\n",
       "\n",
       "\n",
       "\n",
       "  <div class=\"bk-root\" id=\"7dc0b1ad-de90-4ec2-9545-cf4ac8a11b1d\" data-root-id=\"1346\"></div>\n",
       "</div>\n",
       "<script type=\"application/javascript\">(function(root) {\n",
       "  function embed_document(root) {\n",
       "    var docs_json = {\"2be5b7fe-eb33-41e0-a202-07fbfea13f9d\":{\"roots\":{\"references\":[{\"attributes\":{},\"id\":\"1367\",\"type\":\"SaveTool\"},{\"attributes\":{\"axis\":{\"id\":\"1363\"},\"dimension\":1,\"grid_line_color\":null,\"ticker\":null},\"id\":\"1366\",\"type\":\"Grid\"},{\"attributes\":{\"below\":[{\"id\":\"1360\"}],\"center\":[{\"id\":\"1362\"},{\"id\":\"1366\"},{\"id\":\"1397\"}],\"left\":[{\"id\":\"1363\"}],\"margin\":[5,5,5,5],\"min_border_bottom\":10,\"min_border_left\":10,\"min_border_right\":10,\"min_border_top\":10,\"plot_height\":300,\"plot_width\":700,\"renderers\":[{\"id\":\"1387\"}],\"right\":[{\"id\":\"1397\"}],\"sizing_mode\":\"fixed\",\"title\":{\"id\":\"1352\"},\"toolbar\":{\"id\":\"1373\"},\"x_range\":{\"id\":\"1348\"},\"x_scale\":{\"id\":\"1356\"},\"y_range\":{\"id\":\"1349\"},\"y_scale\":{\"id\":\"1358\"}},\"id\":\"1351\",\"subtype\":\"Figure\",\"type\":\"Plot\"},{\"attributes\":{\"margin\":[5,5,5,5],\"name\":\"HSpacer02283\",\"sizing_mode\":\"stretch_width\"},\"id\":\"1419\",\"type\":\"Spacer\"},{\"attributes\":{},\"id\":\"1368\",\"type\":\"PanTool\"},{\"attributes\":{\"bottom\":{\"field\":\"bottom\"},\"fill_alpha\":{\"value\":0.4},\"fill_color\":{\"field\":\"Variable\",\"transform\":{\"id\":\"1380\"}},\"line_alpha\":{\"value\":0.4},\"top\":{\"field\":\"top\"},\"width\":{\"value\":0.8},\"x\":{\"field\":\"index\"}},\"id\":\"1384\",\"type\":\"VBar\"},{\"attributes\":{\"axis\":{\"id\":\"1360\"},\"grid_line_color\":null,\"ticker\":null},\"id\":\"1362\",\"type\":\"Grid\"},{\"attributes\":{\"bottom_units\":\"screen\",\"fill_alpha\":0.5,\"fill_color\":\"lightgrey\",\"left_units\":\"screen\",\"level\":\"overlay\",\"line_alpha\":1.0,\"line_color\":\"black\",\"line_dash\":[4,4],\"line_width\":2,\"right_units\":\"screen\",\"top_units\":\"screen\"},\"id\":\"1372\",\"type\":\"BoxAnnotation\"},{\"attributes\":{\"text\":\"Barrick\",\"text_color\":{\"value\":\"black\"},\"text_font_size\":{\"value\":\"12pt\"}},\"id\":\"1352\",\"type\":\"Title\"},{\"attributes\":{\"children\":[{\"id\":\"1347\"},{\"id\":\"1351\"},{\"id\":\"1419\"}],\"margin\":[0,0,0,0],\"name\":\"Row02278\",\"tags\":[\"embedded\"]},\"id\":\"1346\",\"type\":\"Row\"},{\"attributes\":{\"callback\":null,\"renderers\":[{\"id\":\"1387\"}],\"tags\":[\"hv_created\"],\"tooltips\":[[\"index\",\"@{index}\"],[\"Variable\",\"@{Variable}\"],[\"value\",\"@{value}\"]]},\"id\":\"1350\",\"type\":\"HoverTool\"},{\"attributes\":{},\"id\":\"1396\",\"type\":\"UnionRenderers\"},{\"attributes\":{\"factors\":[\"negative\",\"positive\"],\"palette\":[\"#1f77b3\",\"#ff7e0e\"]},\"id\":\"1380\",\"type\":\"CategoricalColorMapper\"},{\"attributes\":{\"data_source\":{\"id\":\"1381\"},\"glyph\":{\"id\":\"1384\"},\"hover_glyph\":null,\"muted_glyph\":{\"id\":\"1386\"},\"nonselection_glyph\":{\"id\":\"1385\"},\"selection_glyph\":null,\"view\":{\"id\":\"1388\"}},\"id\":\"1387\",\"type\":\"GlyphRenderer\"},{\"attributes\":{\"label\":{\"field\":\"Variable\"},\"renderers\":[{\"id\":\"1387\"}]},\"id\":\"1398\",\"type\":\"LegendItem\"},{\"attributes\":{\"margin\":[5,5,5,5],\"name\":\"HSpacer02282\",\"sizing_mode\":\"stretch_width\"},\"id\":\"1347\",\"type\":\"Spacer\"},{\"attributes\":{\"items\":[{\"id\":\"1398\"}],\"location\":[0,0]},\"id\":\"1397\",\"type\":\"Legend\"},{\"attributes\":{\"factors\":[\"0\",\"1\",\"2\",\"3\",\"4\",\"5\",\"6\",\"7\",\"8\",\"9\",\"10\",\"11\",\"12\"],\"tags\":[[[\"index\",\"index\",null]]]},\"id\":\"1348\",\"type\":\"FactorRange\"},{\"attributes\":{\"overlay\":{\"id\":\"1372\"}},\"id\":\"1370\",\"type\":\"BoxZoomTool\"},{\"attributes\":{},\"id\":\"1369\",\"type\":\"WheelZoomTool\"},{\"attributes\":{},\"id\":\"1361\",\"type\":\"CategoricalTicker\"},{\"attributes\":{},\"id\":\"1371\",\"type\":\"ResetTool\"},{\"attributes\":{},\"id\":\"1358\",\"type\":\"LinearScale\"},{\"attributes\":{},\"id\":\"1356\",\"type\":\"CategoricalScale\"},{\"attributes\":{},\"id\":\"1382\",\"type\":\"Selection\"},{\"attributes\":{\"bottom\":{\"field\":\"bottom\"},\"fill_alpha\":{\"value\":0.2},\"fill_color\":{\"field\":\"Variable\",\"transform\":{\"id\":\"1380\"}},\"line_alpha\":{\"value\":0.2},\"top\":{\"field\":\"top\"},\"width\":{\"value\":0.8},\"x\":{\"field\":\"index\"}},\"id\":\"1386\",\"type\":\"VBar\"},{\"attributes\":{},\"id\":\"1390\",\"type\":\"CategoricalTickFormatter\"},{\"attributes\":{},\"id\":\"1364\",\"type\":\"BasicTicker\"},{\"attributes\":{\"data\":{\"Variable\":[\"negative\",\"negative\",\"negative\",\"negative\",\"negative\",\"negative\",\"negative\",\"negative\",\"negative\",\"negative\",\"negative\",\"negative\",\"negative\",\"positive\",\"positive\",\"positive\",\"positive\",\"positive\",\"positive\",\"positive\",\"positive\",\"positive\",\"positive\",\"positive\",\"positive\",\"positive\"],\"bottom\":{\"__ndarray__\":\"AAAAAAAAAAAAAAAAAAAAAAAAAAAAAAAAAAAAAAAAAAAAAAAAAAAAAAAAAAAAAAAAAAAAAAAAAAAAAAAAAAAAAAAAAAAAAAAAAAAAAAAAAAAAAAAAAAAAAAAAAAAAAAAAAAAAAAAAAAAAAAAAAAAAAAAAAAAAAAAAAAAAAAAAAAAAAAAAAAAAAAAAAAAAAAAAAiuHFtnOtz8AAAAAAAAAAAAAAAAAAAAAF9nO91PjxT956SYxCKysPwAAAAAAAAAAgZVDi2znuz8AAAAAAAAAAA==\",\"dtype\":\"float64\",\"order\":\"little\",\"shape\":[26]},\"index\":[\"0\",\"11\",\"10\",\"9\",\"8\",\"7\",\"12\",\"5\",\"4\",\"3\",\"2\",\"1\",\"6\",\"10\",\"9\",\"8\",\"7\",\"6\",\"3\",\"4\",\"2\",\"1\",\"0\",\"11\",\"5\",\"12\"],\"top\":{\"__ndarray__\":\"eekmMQisrD8AAAAAAAAAAAAAAAAAAAAAAAAAAAAAAAAAAAAAAAAAAAAAAAAAAAAAAAAAAAAAAACBlUOLbOe7PwAAAAAAAAAAAiuHFtnOtz8AAAAAAAAAABfZzvdT48U/AAAAAAAAAABcj8L1KFzPP7Kd76fGS7c/sp3vp8ZLtz/pJjEIrBy6PwAAAAAAAAAAZmZmZmZmxj/pJjEIrBy6P5MYBFYOLcI/F9nO91PjxT8zMzMzMzPDP7Kd76fGS7c/ZmZmZmZmxj/D9Shcj8K1Pw==\",\"dtype\":\"float64\",\"order\":\"little\",\"shape\":[26]},\"value\":{\"__ndarray__\":\"eekmMQisrD8AAAAAAAAAAAAAAAAAAAAAAAAAAAAAAAAAAAAAAAAAAAAAAAAAAAAAAAAAAAAAAACBlUOLbOe7PwAAAAAAAAAAAiuHFtnOtz8AAAAAAAAAABfZzvdT48U/AAAAAAAAAABcj8L1KFzPP7Kd76fGS7c/sp3vp8ZLtz/pJjEIrBy6PwAAAAAAAAAAy6FFtvP9tD/pJjEIrBy6P5MYBFYOLcI/AAAAAAAAAACq8dJNYhC4P7Kd76fGS7c/TDeJQWDlsD/D9Shcj8K1Pw==\",\"dtype\":\"float64\",\"order\":\"little\",\"shape\":[26]}},\"selected\":{\"id\":\"1382\"},\"selection_policy\":{\"id\":\"1396\"}},\"id\":\"1381\",\"type\":\"ColumnDataSource\"},{\"attributes\":{\"source\":{\"id\":\"1381\"}},\"id\":\"1388\",\"type\":\"CDSView\"},{\"attributes\":{\"axis_label\":\"\",\"bounds\":\"auto\",\"formatter\":{\"id\":\"1390\"},\"major_label_orientation\":1.5707963267948966,\"ticker\":{\"id\":\"1361\"}},\"id\":\"1360\",\"type\":\"CategoricalAxis\"},{\"attributes\":{\"bottom\":{\"field\":\"bottom\"},\"fill_alpha\":{\"value\":0.4},\"fill_color\":{\"field\":\"Variable\",\"transform\":{\"id\":\"1380\"}},\"line_alpha\":{\"value\":0.4},\"top\":{\"field\":\"top\"},\"width\":{\"value\":0.8},\"x\":{\"field\":\"index\"}},\"id\":\"1385\",\"type\":\"VBar\"},{\"attributes\":{\"end\":0.2695,\"reset_end\":0.2695,\"reset_start\":0.0,\"tags\":[[[\"value\",\"value\",null]]]},\"id\":\"1349\",\"type\":\"Range1d\"},{\"attributes\":{\"axis_label\":\"\",\"bounds\":\"auto\",\"formatter\":{\"id\":\"1392\"},\"major_label_orientation\":\"horizontal\",\"ticker\":{\"id\":\"1364\"}},\"id\":\"1363\",\"type\":\"LinearAxis\"},{\"attributes\":{},\"id\":\"1392\",\"type\":\"BasicTickFormatter\"},{\"attributes\":{\"active_drag\":\"auto\",\"active_inspect\":\"auto\",\"active_multi\":null,\"active_scroll\":\"auto\",\"active_tap\":\"auto\",\"tools\":[{\"id\":\"1350\"},{\"id\":\"1367\"},{\"id\":\"1368\"},{\"id\":\"1369\"},{\"id\":\"1370\"},{\"id\":\"1371\"}]},\"id\":\"1373\",\"type\":\"Toolbar\"}],\"root_ids\":[\"1346\"]},\"title\":\"Bokeh Application\",\"version\":\"2.2.3\"}};\n",
       "    var render_items = [{\"docid\":\"2be5b7fe-eb33-41e0-a202-07fbfea13f9d\",\"root_ids\":[\"1346\"],\"roots\":{\"1346\":\"7dc0b1ad-de90-4ec2-9545-cf4ac8a11b1d\"}}];\n",
       "    root.Bokeh.embed.embed_items_notebook(docs_json, render_items);\n",
       "  }\n",
       "  if (root.Bokeh !== undefined && root.Bokeh.Panel !== undefined && root['Plotly'] !== undefined ) {\n",
       "    embed_document(root);\n",
       "  } else {\n",
       "    var attempts = 0;\n",
       "    var timer = setInterval(function(root) {\n",
       "      if (root.Bokeh !== undefined && root.Bokeh.Panel !== undefined && root['Plotly'] !== undefined) {\n",
       "        clearInterval(timer);\n",
       "        embed_document(root);\n",
       "      } else if (document.readyState == \"complete\") {\n",
       "        attempts++;\n",
       "        if (attempts > 100) {\n",
       "          clearInterval(timer);\n",
       "          console.log(\"Bokeh: ERROR: Unable to run BokehJS code because BokehJS library is missing\");\n",
       "        }\n",
       "      }\n",
       "    }, 10, root)\n",
       "  }\n",
       "})(window);</script>"
      ],
      "text/plain": [
       ":Bars   [index,Variable]   (value)"
      ]
     },
     "execution_count": 24,
     "metadata": {
      "application/vnd.holoviews_exec.v0+json": {
       "id": "1346"
      }
     },
     "output_type": "execute_result"
    }
   ],
   "source": [
    "barrick_plot = barrick_df.hvplot.bar(x='index',y=['negative', 'positive'], stacked=True, alpha=0.4, rot =90, title=\"Barrick\")\n",
    "barrick_plot"
   ]
  },
  {
   "cell_type": "code",
   "execution_count": 25,
   "metadata": {},
   "outputs": [
    {
     "data": {
      "text/html": [
       "<div>\n",
       "<style scoped>\n",
       "    .dataframe tbody tr th:only-of-type {\n",
       "        vertical-align: middle;\n",
       "    }\n",
       "\n",
       "    .dataframe tbody tr th {\n",
       "        vertical-align: top;\n",
       "    }\n",
       "\n",
       "    .dataframe thead th {\n",
       "        text-align: right;\n",
       "    }\n",
       "</style>\n",
       "<table border=\"1\" class=\"dataframe\">\n",
       "  <thead>\n",
       "    <tr style=\"text-align: right;\">\n",
       "      <th></th>\n",
       "      <th>Total</th>\n",
       "    </tr>\n",
       "  </thead>\n",
       "  <tbody>\n",
       "    <tr>\n",
       "      <th>negative</th>\n",
       "      <td>0.429</td>\n",
       "    </tr>\n",
       "    <tr>\n",
       "      <th>positive</th>\n",
       "      <td>1.191</td>\n",
       "    </tr>\n",
       "  </tbody>\n",
       "</table>\n",
       "</div>"
      ],
      "text/plain": [
       "          Total\n",
       "negative  0.429\n",
       "positive  1.191"
      ]
     },
     "execution_count": 25,
     "metadata": {},
     "output_type": "execute_result"
    }
   ],
   "source": [
    "sum3_df= barrick_df.sum(axis=0)\n",
    "combined3= pd.DataFrame(sum3_df).rename(columns = {0:\"Total\"}) \n",
    "combined3=combined3.drop(['date','compound','neutral'])\n",
    "combined3"
   ]
  },
  {
   "cell_type": "code",
   "execution_count": 26,
   "metadata": {},
   "outputs": [
    {
     "data": {
      "image/png": "[encoded data removed]",
      "text/plain": [
       "<Figure size 432x288 with 1 Axes>"
      ]
     },
     "metadata": {},
     "output_type": "display_data"
    }
   ],
   "source": [
    "combined3_plot = combined3.plot.pie(y=\"Total\", title=\"Barrick\", autopct='%.0f%%')"
   ]
  }
 ],
 "metadata": {
  "kernelspec": {
   "display_name": "Python [conda env:pyvizenv] *",
   "language": "python",
   "name": "conda-env-pyvizenv-py"
  },
  "language_info": {
   "codemirror_mode": {
    "name": "ipython",
    "version": 3
   },
   "file_extension": ".py",
   "mimetype": "text/x-python",
   "name": "python",
   "nbconvert_exporter": "python",
   "pygments_lexer": "ipython3",
   "version": "3.7.7"
  }
 },
 "nbformat": 4,
 "nbformat_minor": 4
}
