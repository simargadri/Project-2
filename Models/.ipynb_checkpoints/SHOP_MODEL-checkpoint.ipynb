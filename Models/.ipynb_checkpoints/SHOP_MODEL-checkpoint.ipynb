{
 "cells": [
  {
   "cell_type": "code",
   "execution_count": 1,
   "metadata": {},
   "outputs": [],
   "source": [
    "import pandas as pd\n",
    "import numpy as np\n",
    "import matplotlib as mpl\n",
    "import matplotlib.pyplot as plt\n",
    "from pathlib import Path\n",
    "from sklearn.preprocessing import MinMaxScaler, StandardScaler\n",
    "from sklearn.model_selection import train_test_split\n",
    "import tensorflow as tf\n",
    "from tensorflow.keras.preprocessing.sequence import TimeseriesGenerator"
   ]
  },
  {
   "cell_type": "code",
   "execution_count": 2,
   "metadata": {},
   "outputs": [],
   "source": [
    "from numpy.random import seed\n",
    "seed(1)\n",
    "from tensorflow import random\n",
    "random.set_seed(2)"
   ]
  },
  {
   "cell_type": "code",
   "execution_count": 3,
   "metadata": {},
   "outputs": [
    {
     "data": {
      "text/html": [
       "<div>\n",
       "<style scoped>\n",
       "    .dataframe tbody tr th:only-of-type {\n",
       "        vertical-align: middle;\n",
       "    }\n",
       "\n",
       "    .dataframe tbody tr th {\n",
       "        vertical-align: top;\n",
       "    }\n",
       "\n",
       "    .dataframe thead th {\n",
       "        text-align: right;\n",
       "    }\n",
       "</style>\n",
       "<table border=\"1\" class=\"dataframe\">\n",
       "  <thead>\n",
       "    <tr style=\"text-align: right;\">\n",
       "      <th></th>\n",
       "      <th>High</th>\n",
       "      <th>Low</th>\n",
       "      <th>CAD Close</th>\n",
       "      <th>Shop Close</th>\n",
       "    </tr>\n",
       "    <tr>\n",
       "      <th>Date</th>\n",
       "      <th></th>\n",
       "      <th></th>\n",
       "      <th></th>\n",
       "      <th></th>\n",
       "    </tr>\n",
       "  </thead>\n",
       "  <tbody>\n",
       "    <tr>\n",
       "      <th>2015-05-21</th>\n",
       "      <td>35.299999</td>\n",
       "      <td>30.000000</td>\n",
       "      <td>1.22064</td>\n",
       "      <td>31.250000</td>\n",
       "    </tr>\n",
       "    <tr>\n",
       "      <th>2015-05-22</th>\n",
       "      <td>38.029999</td>\n",
       "      <td>32.000000</td>\n",
       "      <td>1.21960</td>\n",
       "      <td>34.939999</td>\n",
       "    </tr>\n",
       "    <tr>\n",
       "      <th>2015-05-26</th>\n",
       "      <td>37.689999</td>\n",
       "      <td>36.000000</td>\n",
       "      <td>1.23193</td>\n",
       "      <td>36.919998</td>\n",
       "    </tr>\n",
       "    <tr>\n",
       "      <th>2015-05-27</th>\n",
       "      <td>38.160000</td>\n",
       "      <td>33.630001</td>\n",
       "      <td>1.24244</td>\n",
       "      <td>34.500000</td>\n",
       "    </tr>\n",
       "    <tr>\n",
       "      <th>2015-05-28</th>\n",
       "      <td>34.599998</td>\n",
       "      <td>33.139999</td>\n",
       "      <td>1.24540</td>\n",
       "      <td>34.000000</td>\n",
       "    </tr>\n",
       "    <tr>\n",
       "      <th>...</th>\n",
       "      <td>...</td>\n",
       "      <td>...</td>\n",
       "      <td>...</td>\n",
       "      <td>...</td>\n",
       "    </tr>\n",
       "    <tr>\n",
       "      <th>2020-12-22</th>\n",
       "      <td>1658.790039</td>\n",
       "      <td>1548.000000</td>\n",
       "      <td>1.28532</td>\n",
       "      <td>1649.229980</td>\n",
       "    </tr>\n",
       "    <tr>\n",
       "      <th>2020-12-23</th>\n",
       "      <td>1640.000000</td>\n",
       "      <td>1539.780029</td>\n",
       "      <td>1.28933</td>\n",
       "      <td>1542.459961</td>\n",
       "    </tr>\n",
       "    <tr>\n",
       "      <th>2020-12-24</th>\n",
       "      <td>1590.000000</td>\n",
       "      <td>1553.109985</td>\n",
       "      <td>1.28455</td>\n",
       "      <td>1568.189941</td>\n",
       "    </tr>\n",
       "    <tr>\n",
       "      <th>2020-12-29</th>\n",
       "      <td>1535.969971</td>\n",
       "      <td>1470.189941</td>\n",
       "      <td>1.28400</td>\n",
       "      <td>1500.329956</td>\n",
       "    </tr>\n",
       "    <tr>\n",
       "      <th>2020-12-30</th>\n",
       "      <td>1510.000000</td>\n",
       "      <td>1464.640015</td>\n",
       "      <td>1.28221</td>\n",
       "      <td>1482.479980</td>\n",
       "    </tr>\n",
       "  </tbody>\n",
       "</table>\n",
       "<p>1382 rows × 4 columns</p>\n",
       "</div>"
      ],
      "text/plain": [
       "                   High          Low  CAD Close   Shop Close\n",
       "Date                                                        \n",
       "2015-05-21    35.299999    30.000000    1.22064    31.250000\n",
       "2015-05-22    38.029999    32.000000    1.21960    34.939999\n",
       "2015-05-26    37.689999    36.000000    1.23193    36.919998\n",
       "2015-05-27    38.160000    33.630001    1.24244    34.500000\n",
       "2015-05-28    34.599998    33.139999    1.24540    34.000000\n",
       "...                 ...          ...        ...          ...\n",
       "2020-12-22  1658.790039  1548.000000    1.28532  1649.229980\n",
       "2020-12-23  1640.000000  1539.780029    1.28933  1542.459961\n",
       "2020-12-24  1590.000000  1553.109985    1.28455  1568.189941\n",
       "2020-12-29  1535.969971  1470.189941    1.28400  1500.329956\n",
       "2020-12-30  1510.000000  1464.640015    1.28221  1482.479980\n",
       "\n",
       "[1382 rows x 4 columns]"
      ]
     },
     "execution_count": 3,
     "metadata": {},
     "output_type": "execute_result"
    }
   ],
   "source": [
    "df = pd.read_csv('shop.csv', index_col=\"Date\", infer_datetime_format=True, parse_dates=True)\n",
    "df = df.drop(columns=[\"Volume\", \"Open\", \"Vix Close\", \"CRM Close\", \"TSX Close\"])\n",
    "df"
   ]
  },
  {
   "cell_type": "code",
   "execution_count": 4,
   "metadata": {},
   "outputs": [],
   "source": [
    "df_input = df\n",
    "df_output = df[[\"Shop Close\"]]"
   ]
  },
  {
   "cell_type": "code",
   "execution_count": 5,
   "metadata": {},
   "outputs": [],
   "source": [
    "x_train, x_test, y_train, y_test = train_test_split(df_input, df_output, test_size=0.3, random_state=42, shuffle= False)"
   ]
  },
  {
   "cell_type": "code",
   "execution_count": 6,
   "metadata": {},
   "outputs": [
    {
     "data": {
      "text/plain": [
       "(967, 4)"
      ]
     },
     "execution_count": 6,
     "metadata": {},
     "output_type": "execute_result"
    }
   ],
   "source": [
    "x_train.shape"
   ]
  },
  {
   "cell_type": "code",
   "execution_count": 7,
   "metadata": {},
   "outputs": [
    {
     "data": {
      "text/plain": [
       "(415, 4)"
      ]
     },
     "execution_count": 7,
     "metadata": {},
     "output_type": "execute_result"
    }
   ],
   "source": [
    "x_test.shape"
   ]
  },
  {
   "cell_type": "code",
   "execution_count": 8,
   "metadata": {},
   "outputs": [
    {
     "data": {
      "text/html": [
       "<div>\n",
       "<style scoped>\n",
       "    .dataframe tbody tr th:only-of-type {\n",
       "        vertical-align: middle;\n",
       "    }\n",
       "\n",
       "    .dataframe tbody tr th {\n",
       "        vertical-align: top;\n",
       "    }\n",
       "\n",
       "    .dataframe thead th {\n",
       "        text-align: right;\n",
       "    }\n",
       "</style>\n",
       "<table border=\"1\" class=\"dataframe\">\n",
       "  <thead>\n",
       "    <tr style=\"text-align: right;\">\n",
       "      <th></th>\n",
       "      <th>High</th>\n",
       "      <th>Low</th>\n",
       "      <th>CAD Close</th>\n",
       "      <th>Shop Close</th>\n",
       "    </tr>\n",
       "    <tr>\n",
       "      <th>Date</th>\n",
       "      <th></th>\n",
       "      <th></th>\n",
       "      <th></th>\n",
       "      <th></th>\n",
       "    </tr>\n",
       "  </thead>\n",
       "  <tbody>\n",
       "    <tr>\n",
       "      <th>2019-04-25</th>\n",
       "      <td>299.750000</td>\n",
       "      <td>292.480011</td>\n",
       "      <td>1.34930</td>\n",
       "      <td>295.369995</td>\n",
       "    </tr>\n",
       "    <tr>\n",
       "      <th>2019-04-26</th>\n",
       "      <td>303.130005</td>\n",
       "      <td>295.500000</td>\n",
       "      <td>1.34780</td>\n",
       "      <td>299.100006</td>\n",
       "    </tr>\n",
       "    <tr>\n",
       "      <th>2019-04-29</th>\n",
       "      <td>307.649994</td>\n",
       "      <td>301.250000</td>\n",
       "      <td>1.34600</td>\n",
       "      <td>303.040009</td>\n",
       "    </tr>\n",
       "    <tr>\n",
       "      <th>2019-04-30</th>\n",
       "      <td>332.760010</td>\n",
       "      <td>304.000000</td>\n",
       "      <td>1.34547</td>\n",
       "      <td>325.750000</td>\n",
       "    </tr>\n",
       "    <tr>\n",
       "      <th>2019-05-01</th>\n",
       "      <td>338.399994</td>\n",
       "      <td>318.880005</td>\n",
       "      <td>1.33879</td>\n",
       "      <td>331.000000</td>\n",
       "    </tr>\n",
       "    <tr>\n",
       "      <th>...</th>\n",
       "      <td>...</td>\n",
       "      <td>...</td>\n",
       "      <td>...</td>\n",
       "      <td>...</td>\n",
       "    </tr>\n",
       "    <tr>\n",
       "      <th>2020-12-22</th>\n",
       "      <td>1658.790039</td>\n",
       "      <td>1548.000000</td>\n",
       "      <td>1.28532</td>\n",
       "      <td>1649.229980</td>\n",
       "    </tr>\n",
       "    <tr>\n",
       "      <th>2020-12-23</th>\n",
       "      <td>1640.000000</td>\n",
       "      <td>1539.780029</td>\n",
       "      <td>1.28933</td>\n",
       "      <td>1542.459961</td>\n",
       "    </tr>\n",
       "    <tr>\n",
       "      <th>2020-12-24</th>\n",
       "      <td>1590.000000</td>\n",
       "      <td>1553.109985</td>\n",
       "      <td>1.28455</td>\n",
       "      <td>1568.189941</td>\n",
       "    </tr>\n",
       "    <tr>\n",
       "      <th>2020-12-29</th>\n",
       "      <td>1535.969971</td>\n",
       "      <td>1470.189941</td>\n",
       "      <td>1.28400</td>\n",
       "      <td>1500.329956</td>\n",
       "    </tr>\n",
       "    <tr>\n",
       "      <th>2020-12-30</th>\n",
       "      <td>1510.000000</td>\n",
       "      <td>1464.640015</td>\n",
       "      <td>1.28221</td>\n",
       "      <td>1482.479980</td>\n",
       "    </tr>\n",
       "  </tbody>\n",
       "</table>\n",
       "<p>415 rows × 4 columns</p>\n",
       "</div>"
      ],
      "text/plain": [
       "                   High          Low  CAD Close   Shop Close\n",
       "Date                                                        \n",
       "2019-04-25   299.750000   292.480011    1.34930   295.369995\n",
       "2019-04-26   303.130005   295.500000    1.34780   299.100006\n",
       "2019-04-29   307.649994   301.250000    1.34600   303.040009\n",
       "2019-04-30   332.760010   304.000000    1.34547   325.750000\n",
       "2019-05-01   338.399994   318.880005    1.33879   331.000000\n",
       "...                 ...          ...        ...          ...\n",
       "2020-12-22  1658.790039  1548.000000    1.28532  1649.229980\n",
       "2020-12-23  1640.000000  1539.780029    1.28933  1542.459961\n",
       "2020-12-24  1590.000000  1553.109985    1.28455  1568.189941\n",
       "2020-12-29  1535.969971  1470.189941    1.28400  1500.329956\n",
       "2020-12-30  1510.000000  1464.640015    1.28221  1482.479980\n",
       "\n",
       "[415 rows x 4 columns]"
      ]
     },
     "execution_count": 8,
     "metadata": {},
     "output_type": "execute_result"
    }
   ],
   "source": [
    "x_test"
   ]
  },
  {
   "cell_type": "code",
   "execution_count": 9,
   "metadata": {},
   "outputs": [],
   "source": [
    "x_train_scaler = MinMaxScaler()\n",
    "x_test_scaler = MinMaxScaler()\n",
    "\n",
    "y_train_scaler = MinMaxScaler()\n",
    "y_test_scaler = MinMaxScaler()\n",
    "\n",
    "x_train_scaler.fit(x_train)\n",
    "x_test_scaler.fit(x_test)\n",
    "\n",
    "y_train_scaler.fit(y_train)\n",
    "y_test_scaler.fit(y_test)\n",
    "\n",
    "x_train = x_train_scaler.transform(x_train)\n",
    "x_test = x_test_scaler.transform(x_test)\n",
    "\n",
    "y_train = y_train_scaler.transform(y_train)\n",
    "y_test = y_test_scaler.transform(y_test)\n"
   ]
  },
  {
   "cell_type": "code",
   "execution_count": 10,
   "metadata": {},
   "outputs": [],
   "source": [
    "length = 1\n",
    "batch = 44\n",
    "features = x_test.shape[1]\n",
    "\n",
    "train_generator = TimeseriesGenerator(x_train, y_train, length=length, sampling_rate=1, batch_size=batch)\n",
    "test_generator = TimeseriesGenerator(x_test, y_test, length=length, sampling_rate=1, batch_size=batch)"
   ]
  },
  {
   "cell_type": "code",
   "execution_count": 11,
   "metadata": {},
   "outputs": [],
   "source": [
    "from tensorflow.keras.models import Sequential\n",
    "from tensorflow.keras.layers import LSTM, Dense, Dropout "
   ]
  },
  {
   "cell_type": "code",
   "execution_count": 12,
   "metadata": {},
   "outputs": [],
   "source": [
    "model = Sequential()\n",
    "units = 64\n",
    "drop = 0.2\n",
    "\n",
    "#1st layer\n",
    "model.add(LSTM(units=units, return_sequences=True, input_shape=(length, features)))\n",
    "model.add(Dropout(drop))\n",
    "\n",
    "#2nd layer\n",
    "model.add(LSTM(units=units, return_sequences=True))\n",
    "model.add(Dropout(drop))\n",
    "\n",
    "#3rd layer\n",
    "model.add(LSTM(units=units))\n",
    "model.add(Dropout(drop))\n",
    "\n",
    "# Output layer\n",
    "model.add(Dense(1))"
   ]
  },
  {
   "cell_type": "code",
   "execution_count": 13,
   "metadata": {},
   "outputs": [
    {
     "name": "stdout",
     "output_type": "stream",
     "text": [
      "Model: \"sequential\"\n",
      "_________________________________________________________________\n",
      "Layer (type)                 Output Shape              Param #   \n",
      "=================================================================\n",
      "lstm (LSTM)                  (None, 1, 64)             17664     \n",
      "_________________________________________________________________\n",
      "dropout (Dropout)            (None, 1, 64)             0         \n",
      "_________________________________________________________________\n",
      "lstm_1 (LSTM)                (None, 1, 64)             33024     \n",
      "_________________________________________________________________\n",
      "dropout_1 (Dropout)          (None, 1, 64)             0         \n",
      "_________________________________________________________________\n",
      "lstm_2 (LSTM)                (None, 64)                33024     \n",
      "_________________________________________________________________\n",
      "dropout_2 (Dropout)          (None, 64)                0         \n",
      "_________________________________________________________________\n",
      "dense (Dense)                (None, 1)                 65        \n",
      "=================================================================\n",
      "Total params: 83,777\n",
      "Trainable params: 83,777\n",
      "Non-trainable params: 0\n",
      "_________________________________________________________________\n"
     ]
    }
   ],
   "source": [
    "model.summary()"
   ]
  },
  {
   "cell_type": "code",
   "execution_count": 41,
   "metadata": {},
   "outputs": [
    {
     "name": "stdout",
     "output_type": "stream",
     "text": [
      "Epoch 1/100\n",
      "22/22 [==============================] - 1s 47ms/step - loss: 0.0029 - val_loss: 0.0023\n",
      "Epoch 2/100\n",
      "22/22 [==============================] - 1s 50ms/step - loss: 0.0023 - val_loss: 0.0033\n",
      "Epoch 3/100\n",
      "22/22 [==============================] - 1s 51ms/step - loss: 0.0030 - val_loss: 0.0017\n",
      "Epoch 4/100\n",
      "22/22 [==============================] - 1s 55ms/step - loss: 0.0020 - val_loss: 0.0013\n",
      "Epoch 5/100\n",
      "22/22 [==============================] - 1s 50ms/step - loss: 0.0018 - val_loss: 8.6424e-04\n",
      "Epoch 6/100\n",
      "22/22 [==============================] - 1s 50ms/step - loss: 0.0014 - val_loss: 9.4393e-04\n",
      "Epoch 7/100\n",
      "22/22 [==============================] - 1s 42ms/step - loss: 0.0017 - val_loss: 9.4069e-04\n"
     ]
    }
   ],
   "source": [
    "callback = tf.keras.callbacks.EarlyStopping(monitor='val_loss', patience=2, mode='min')\n",
    "\n",
    "model.compile(optimizer=\"adam\", loss=\"mean_squared_error\")\n",
    "\n",
    "\n",
    "fit = model.fit_generator(train_generator, epochs = 100, validation_data=test_generator,\n",
    "                         shuffle=False, callbacks=[callback])"
   ]
  },
  {
   "cell_type": "code",
   "execution_count": 42,
   "metadata": {},
   "outputs": [
    {
     "data": {
      "text/plain": [
       "0.0009406855126144365"
      ]
     },
     "execution_count": 42,
     "metadata": {},
     "output_type": "execute_result"
    }
   ],
   "source": [
    "model.evaluate_generator(test_generator, verbose=0)"
   ]
  },
  {
   "cell_type": "code",
   "execution_count": 16,
   "metadata": {},
   "outputs": [],
   "source": [
    "predictions = model.predict_generator(test_generator)"
   ]
  },
  {
   "cell_type": "code",
   "execution_count": 17,
   "metadata": {},
   "outputs": [],
   "source": [
    "predicted_prices = y_test_scaler.inverse_transform(predictions)\n",
    "real_prices = y_test_scaler.inverse_transform(y_test[1:].reshape(-1,1))"
   ]
  },
  {
   "cell_type": "code",
   "execution_count": 18,
   "metadata": {},
   "outputs": [
    {
     "data": {
      "text/html": [
       "<div>\n",
       "<style scoped>\n",
       "    .dataframe tbody tr th:only-of-type {\n",
       "        vertical-align: middle;\n",
       "    }\n",
       "\n",
       "    .dataframe tbody tr th {\n",
       "        vertical-align: top;\n",
       "    }\n",
       "\n",
       "    .dataframe thead th {\n",
       "        text-align: right;\n",
       "    }\n",
       "</style>\n",
       "<table border=\"1\" class=\"dataframe\">\n",
       "  <thead>\n",
       "    <tr style=\"text-align: right;\">\n",
       "      <th></th>\n",
       "      <th>Real</th>\n",
       "      <th>Predicted</th>\n",
       "    </tr>\n",
       "    <tr>\n",
       "      <th>Date</th>\n",
       "      <th></th>\n",
       "      <th></th>\n",
       "    </tr>\n",
       "  </thead>\n",
       "  <tbody>\n",
       "    <tr>\n",
       "      <th>2019-04-26</th>\n",
       "      <td>299.100006</td>\n",
       "      <td>360.653870</td>\n",
       "    </tr>\n",
       "    <tr>\n",
       "      <th>2019-04-29</th>\n",
       "      <td>303.040009</td>\n",
       "      <td>363.524628</td>\n",
       "    </tr>\n",
       "    <tr>\n",
       "      <th>2019-04-30</th>\n",
       "      <td>325.750000</td>\n",
       "      <td>367.486633</td>\n",
       "    </tr>\n",
       "    <tr>\n",
       "      <th>2019-05-01</th>\n",
       "      <td>331.000000</td>\n",
       "      <td>379.304932</td>\n",
       "    </tr>\n",
       "    <tr>\n",
       "      <th>2019-05-02</th>\n",
       "      <td>343.850006</td>\n",
       "      <td>387.934448</td>\n",
       "    </tr>\n",
       "    <tr>\n",
       "      <th>...</th>\n",
       "      <td>...</td>\n",
       "      <td>...</td>\n",
       "    </tr>\n",
       "    <tr>\n",
       "      <th>2020-12-22</th>\n",
       "      <td>1649.229980</td>\n",
       "      <td>1668.738037</td>\n",
       "    </tr>\n",
       "    <tr>\n",
       "      <th>2020-12-23</th>\n",
       "      <td>1542.459961</td>\n",
       "      <td>1807.471558</td>\n",
       "    </tr>\n",
       "    <tr>\n",
       "      <th>2020-12-24</th>\n",
       "      <td>1568.189941</td>\n",
       "      <td>1749.418945</td>\n",
       "    </tr>\n",
       "    <tr>\n",
       "      <th>2020-12-29</th>\n",
       "      <td>1500.329956</td>\n",
       "      <td>1740.880249</td>\n",
       "    </tr>\n",
       "    <tr>\n",
       "      <th>2020-12-30</th>\n",
       "      <td>1482.479980</td>\n",
       "      <td>1646.842285</td>\n",
       "    </tr>\n",
       "  </tbody>\n",
       "</table>\n",
       "<p>414 rows × 2 columns</p>\n",
       "</div>"
      ],
      "text/plain": [
       "                   Real    Predicted\n",
       "Date                                \n",
       "2019-04-26   299.100006   360.653870\n",
       "2019-04-29   303.040009   363.524628\n",
       "2019-04-30   325.750000   367.486633\n",
       "2019-05-01   331.000000   379.304932\n",
       "2019-05-02   343.850006   387.934448\n",
       "...                 ...          ...\n",
       "2020-12-22  1649.229980  1668.738037\n",
       "2020-12-23  1542.459961  1807.471558\n",
       "2020-12-24  1568.189941  1749.418945\n",
       "2020-12-29  1500.329956  1740.880249\n",
       "2020-12-30  1482.479980  1646.842285\n",
       "\n",
       "[414 rows x 2 columns]"
      ]
     },
     "execution_count": 18,
     "metadata": {},
     "output_type": "execute_result"
    }
   ],
   "source": [
    "stocks = pd.DataFrame({\n",
    "    \"Real\": real_prices.ravel(),\n",
    "    \"Predicted\": predicted_prices.ravel()\n",
    "}, index = df.index[-len(real_prices): ]) \n",
    "stocks"
   ]
  },
  {
   "cell_type": "code",
   "execution_count": 19,
   "metadata": {},
   "outputs": [
    {
     "data": {
      "text/plain": [
       "<AxesSubplot:title={'center':'Actual Vs. Predicted Prices'}, xlabel='Date'>"
      ]
     },
     "execution_count": 19,
     "metadata": {},
     "output_type": "execute_result"
    },
    {
     "data": {
      "image/png": "[encoded data removed]",
      "text/plain": [
       "<Figure size 432x288 with 1 Axes>"
      ]
     },
     "metadata": {
      "needs_background": "light"
     },
     "output_type": "display_data"
    }
   ],
   "source": [
    "stocks.plot(title=\"Actual Vs. Predicted Prices\")"
   ]
  },
  {
   "cell_type": "code",
   "execution_count": 20,
   "metadata": {},
   "outputs": [
    {
     "data": {
      "text/plain": [
       "-34.16470086286609"
      ]
     },
     "execution_count": 20,
     "metadata": {},
     "output_type": "execute_result"
    }
   ],
   "source": [
    "stocks[\"diff\"] = stocks[\"Real\"] - stocks[\"Predicted\"]\n",
    "stocks[\"diff\"].mean()"
   ]
  },
  {
   "cell_type": "code",
   "execution_count": null,
   "metadata": {},
   "outputs": [],
   "source": []
  }
 ],
 "metadata": {
  "kernelspec": {
   "display_name": "Python 3",
   "language": "python",
   "name": "python3"
  },
  "language_info": {
   "codemirror_mode": {
    "name": "ipython",
    "version": 3
   },
   "file_extension": ".py",
   "mimetype": "text/x-python",
   "name": "python",
   "nbconvert_exporter": "python",
   "pygments_lexer": "ipython3",
   "version": "3.7.9"
  }
 },
 "nbformat": 4,
 "nbformat_minor": 4
}
