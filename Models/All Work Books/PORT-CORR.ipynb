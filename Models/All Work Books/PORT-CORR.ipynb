{
 "cells": [
  {
   "cell_type": "code",
   "execution_count": 1,
   "metadata": {},
   "outputs": [],
   "source": [
    "import pandas as pd\n",
    "import seaborn as sn\n",
    "import matplotlib.pyplot as plt\n",
    "import yfinance as yf"
   ]
  },
  {
   "cell_type": "code",
   "execution_count": 13,
   "metadata": {},
   "outputs": [],
   "source": [
    "shop = yf.Ticker(\"SHOP.TO\")\n",
    "shop_df = shop.history(period='max')\n",
    "shop_df = shop_df.drop(columns=[\"Dividends\", \"Stock Splits\"])\n",
    "shop_df = shop_df.loc['2015':'2020']\n",
    "shop_df[\"SHOP Returns\"] = shop_df[\"Close\"].pct_change()\n",
    "shop_df = shop_df[[\"SHOP Returns\"]]\n",
    "\n",
    "enb = yf.Ticker(\"ENB.TO\")\n",
    "enb_df = enb.history(period='max')\n",
    "enb_df = enb_df.drop(columns=[\"Dividends\", \"Stock Splits\"])\n",
    "enb_df = enb_df.loc['2015':'2020']\n",
    "enb_df = enb_df.dropna()\n",
    "enb_df.rename(columns = {\"Close\": \"ENB Close\"},  inplace = True)\n",
    "enb_df[\"ENB Returns\"] = enb_df[\"ENB Close\"].pct_change()\n",
    "enb_df = enb_df[[\"ENB Returns\"]]\n",
    "\n",
    "gold = yf.Ticker(\"ABX.TO\")\n",
    "gold_df = gold.history(period='max')\n",
    "gold_df = gold_df.drop(columns=[\"Dividends\", \"Stock Splits\"])\n",
    "gold_df = gold_df.loc['2015':'2020']\n",
    "gold_df = gold_df.dropna()\n",
    "gold_df.rename(columns = {\"Close\": \"Bar Close\"},  inplace = True)\n",
    "gold_df[\"BAR Returns\"] = gold_df[\"Bar Close\"].pct_change()\n",
    "gold_df = gold_df[[\"BAR Returns\"]]\n",
    "\n",
    "rbc = yf.Ticker(\"RY.TO\")\n",
    "rbc_df = rbc.history(period='max')\n",
    "rbc_df = rbc_df.drop(columns=[\"Dividends\", \"Stock Splits\"])\n",
    "rbc_df = rbc_df.loc['2015':'2020']\n",
    "rbc_df.rename(columns = {\"Close\": \"RBC Close\"},  inplace = True)\n",
    "rbc_df[\"RBC Returns\"] = rbc_df[\"RBC Close\"].pct_change()\n",
    "rbc_df = rbc_df[[\"RBC Returns\"]]\n",
    "\n",
    "tsx = yf.Ticker(\"^GSPTSE\")\n",
    "tsx_df = tsx.history(period='max')\n",
    "tsx_df = pd.DataFrame(tsx_df[\"Close\"])\n",
    "tsx_df = tsx_df.loc['2010':'2020']\n",
    "tsx_df = tsx_df.dropna()\n",
    "tsx_df.rename(columns = {\"Close\": \"TSX Close\"},  inplace = True)\n",
    "tsx_df[\"TSX Returns\"] = tsx_df[[\"TSX Close\"]].pct_change()\n",
    "tsx_df = tsx_df[[\"TSX Returns\"]]"
   ]
  },
  {
   "cell_type": "code",
   "execution_count": 14,
   "metadata": {},
   "outputs": [],
   "source": [
    "port_df = pd.concat([shop_df, enb_df, gold_df, rbc_df, tsx_df], axis=1, join=\"inner\")\n",
    "port_df = port_df.dropna()"
   ]
  },
  {
   "cell_type": "code",
   "execution_count": 15,
   "metadata": {},
   "outputs": [
    {
     "data": {
      "text/html": [
       "<div>\n",
       "<style scoped>\n",
       "    .dataframe tbody tr th:only-of-type {\n",
       "        vertical-align: middle;\n",
       "    }\n",
       "\n",
       "    .dataframe tbody tr th {\n",
       "        vertical-align: top;\n",
       "    }\n",
       "\n",
       "    .dataframe thead th {\n",
       "        text-align: right;\n",
       "    }\n",
       "</style>\n",
       "<table border=\"1\" class=\"dataframe\">\n",
       "  <thead>\n",
       "    <tr style=\"text-align: right;\">\n",
       "      <th></th>\n",
       "      <th>SHOP Returns</th>\n",
       "      <th>ENB Returns</th>\n",
       "      <th>BAR Returns</th>\n",
       "      <th>RBC Returns</th>\n",
       "      <th>TSX Returns</th>\n",
       "    </tr>\n",
       "    <tr>\n",
       "      <th>Date</th>\n",
       "      <th></th>\n",
       "      <th></th>\n",
       "      <th></th>\n",
       "      <th></th>\n",
       "      <th></th>\n",
       "    </tr>\n",
       "  </thead>\n",
       "  <tbody>\n",
       "    <tr>\n",
       "      <th>2015-05-22</th>\n",
       "      <td>0.118080</td>\n",
       "      <td>-0.010691</td>\n",
       "      <td>-0.005267</td>\n",
       "      <td>0.000374</td>\n",
       "      <td>-0.000184</td>\n",
       "    </tr>\n",
       "    <tr>\n",
       "      <th>2015-05-25</th>\n",
       "      <td>0.066400</td>\n",
       "      <td>-0.020806</td>\n",
       "      <td>0.000662</td>\n",
       "      <td>-0.001120</td>\n",
       "      <td>-0.000881</td>\n",
       "    </tr>\n",
       "    <tr>\n",
       "      <th>2015-05-26</th>\n",
       "      <td>-0.009125</td>\n",
       "      <td>-0.003130</td>\n",
       "      <td>-0.037037</td>\n",
       "      <td>-0.009214</td>\n",
       "      <td>-0.008994</td>\n",
       "    </tr>\n",
       "    <tr>\n",
       "      <th>2015-05-27</th>\n",
       "      <td>-0.065547</td>\n",
       "      <td>-0.002313</td>\n",
       "      <td>0.005656</td>\n",
       "      <td>0.004650</td>\n",
       "      <td>0.003967</td>\n",
       "    </tr>\n",
       "    <tr>\n",
       "      <th>2015-05-28</th>\n",
       "      <td>-0.014493</td>\n",
       "      <td>0.001822</td>\n",
       "      <td>0.023320</td>\n",
       "      <td>0.001376</td>\n",
       "      <td>-0.000232</td>\n",
       "    </tr>\n",
       "  </tbody>\n",
       "</table>\n",
       "</div>"
      ],
      "text/plain": [
       "            SHOP Returns  ENB Returns  BAR Returns  RBC Returns  TSX Returns\n",
       "Date                                                                        \n",
       "2015-05-22      0.118080    -0.010691    -0.005267     0.000374    -0.000184\n",
       "2015-05-25      0.066400    -0.020806     0.000662    -0.001120    -0.000881\n",
       "2015-05-26     -0.009125    -0.003130    -0.037037    -0.009214    -0.008994\n",
       "2015-05-27     -0.065547    -0.002313     0.005656     0.004650     0.003967\n",
       "2015-05-28     -0.014493     0.001822     0.023320     0.001376    -0.000232"
      ]
     },
     "execution_count": 15,
     "metadata": {},
     "output_type": "execute_result"
    }
   ],
   "source": [
    "port_df.head()"
   ]
  },
  {
   "cell_type": "code",
   "execution_count": 16,
   "metadata": {},
   "outputs": [
    {
     "data": {
      "image/png": "[encoded data removed]",
      "text/plain": [
       "<Figure size 1080x720 with 2 Axes>"
      ]
     },
     "metadata": {
      "needs_background": "light"
     },
     "output_type": "display_data"
    }
   ],
   "source": [
    "corrmat = port_df.corr()\n",
    "fig, heat = plt.subplots(figsize = (15, 10))\n",
    "heat = sn.heatmap(corrmat, annot=True)\n",
    "plt.show()"
   ]
  },
  {
   "cell_type": "code",
   "execution_count": null,
   "metadata": {},
   "outputs": [],
   "source": []
  }
 ],
 "metadata": {
  "kernelspec": {
   "display_name": "Python 3",
   "language": "python",
   "name": "python3"
  },
  "language_info": {
   "codemirror_mode": {
    "name": "ipython",
    "version": 3
   },
   "file_extension": ".py",
   "mimetype": "text/x-python",
   "name": "python",
   "nbconvert_exporter": "python",
   "pygments_lexer": "ipython3",
   "version": "3.7.9"
  }
 },
 "nbformat": 4,
 "nbformat_minor": 4
}
