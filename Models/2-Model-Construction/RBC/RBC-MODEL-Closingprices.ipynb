{
 "cells": [
  {
   "cell_type": "code",
   "execution_count": 1,
   "metadata": {},
   "outputs": [],
   "source": [
    "import pandas as pd\n",
    "import numpy as np\n",
    "import matplotlib as mpl\n",
    "import matplotlib.pyplot as plt\n",
    "from pathlib import Path\n",
    "from sklearn.preprocessing import MinMaxScaler, StandardScaler\n",
    "from sklearn.model_selection import train_test_split\n",
    "import tensorflow as tf\n",
    "from tensorflow.keras.preprocessing.sequence import TimeseriesGenerator"
   ]
  },
  {
   "cell_type": "code",
   "execution_count": 2,
   "metadata": {},
   "outputs": [],
   "source": [
    "from numpy.random import seed\n",
    "seed(1)\n",
    "from tensorflow import random\n",
    "random.set_seed(2)"
   ]
  },
  {
   "cell_type": "code",
   "execution_count": 3,
   "metadata": {},
   "outputs": [
    {
     "data": {
      "text/html": [
       "<div>\n",
       "<style scoped>\n",
       "    .dataframe tbody tr th:only-of-type {\n",
       "        vertical-align: middle;\n",
       "    }\n",
       "\n",
       "    .dataframe tbody tr th {\n",
       "        vertical-align: top;\n",
       "    }\n",
       "\n",
       "    .dataframe thead th {\n",
       "        text-align: right;\n",
       "    }\n",
       "</style>\n",
       "<table border=\"1\" class=\"dataframe\">\n",
       "  <thead>\n",
       "    <tr style=\"text-align: right;\">\n",
       "      <th></th>\n",
       "      <th>High</th>\n",
       "      <th>Vix Close</th>\n",
       "      <th>RBC Close</th>\n",
       "    </tr>\n",
       "    <tr>\n",
       "      <th>Date</th>\n",
       "      <th></th>\n",
       "      <th></th>\n",
       "      <th></th>\n",
       "    </tr>\n",
       "  </thead>\n",
       "  <tbody>\n",
       "    <tr>\n",
       "      <th>2010-01-04</th>\n",
       "      <td>36.403172</td>\n",
       "      <td>20.040001</td>\n",
       "      <td>36.403172</td>\n",
       "    </tr>\n",
       "    <tr>\n",
       "      <th>2010-01-05</th>\n",
       "      <td>36.634629</td>\n",
       "      <td>19.350000</td>\n",
       "      <td>35.843815</td>\n",
       "    </tr>\n",
       "    <tr>\n",
       "      <th>2010-01-06</th>\n",
       "      <td>35.805235</td>\n",
       "      <td>19.160000</td>\n",
       "      <td>35.580208</td>\n",
       "    </tr>\n",
       "    <tr>\n",
       "      <th>2010-01-07</th>\n",
       "      <td>35.695945</td>\n",
       "      <td>19.059999</td>\n",
       "      <td>35.612362</td>\n",
       "    </tr>\n",
       "    <tr>\n",
       "      <th>2010-01-08</th>\n",
       "      <td>35.728083</td>\n",
       "      <td>18.129999</td>\n",
       "      <td>35.548061</td>\n",
       "    </tr>\n",
       "    <tr>\n",
       "      <th>...</th>\n",
       "      <td>...</td>\n",
       "      <td>...</td>\n",
       "      <td>...</td>\n",
       "    </tr>\n",
       "    <tr>\n",
       "      <th>2020-12-23</th>\n",
       "      <td>104.889999</td>\n",
       "      <td>23.309999</td>\n",
       "      <td>104.860001</td>\n",
       "    </tr>\n",
       "    <tr>\n",
       "      <th>2020-12-24</th>\n",
       "      <td>105.010002</td>\n",
       "      <td>21.530001</td>\n",
       "      <td>104.910004</td>\n",
       "    </tr>\n",
       "    <tr>\n",
       "      <th>2020-12-29</th>\n",
       "      <td>105.680000</td>\n",
       "      <td>23.080000</td>\n",
       "      <td>105.199997</td>\n",
       "    </tr>\n",
       "    <tr>\n",
       "      <th>2020-12-30</th>\n",
       "      <td>105.620003</td>\n",
       "      <td>22.770000</td>\n",
       "      <td>104.820000</td>\n",
       "    </tr>\n",
       "    <tr>\n",
       "      <th>2020-12-31</th>\n",
       "      <td>105.489998</td>\n",
       "      <td>22.750000</td>\n",
       "      <td>104.589996</td>\n",
       "    </tr>\n",
       "  </tbody>\n",
       "</table>\n",
       "<p>2706 rows × 3 columns</p>\n",
       "</div>"
      ],
      "text/plain": [
       "                  High  Vix Close   RBC Close\n",
       "Date                                         \n",
       "2010-01-04   36.403172  20.040001   36.403172\n",
       "2010-01-05   36.634629  19.350000   35.843815\n",
       "2010-01-06   35.805235  19.160000   35.580208\n",
       "2010-01-07   35.695945  19.059999   35.612362\n",
       "2010-01-08   35.728083  18.129999   35.548061\n",
       "...                ...        ...         ...\n",
       "2020-12-23  104.889999  23.309999  104.860001\n",
       "2020-12-24  105.010002  21.530001  104.910004\n",
       "2020-12-29  105.680000  23.080000  105.199997\n",
       "2020-12-30  105.620003  22.770000  104.820000\n",
       "2020-12-31  105.489998  22.750000  104.589996\n",
       "\n",
       "[2706 rows x 3 columns]"
      ]
     },
     "execution_count": 3,
     "metadata": {},
     "output_type": "execute_result"
    }
   ],
   "source": [
    "df = pd.read_csv('rbc.csv', index_col=\"Date\", infer_datetime_format=True, parse_dates=True)\n",
    "df = df.drop(columns=[\"TD Close\", \"CAD Close\", \"TSX Close\", \"Low\"])\n",
    "df"
   ]
  },
  {
   "cell_type": "code",
   "execution_count": 4,
   "metadata": {},
   "outputs": [],
   "source": [
    "df_input = df\n",
    "df_output = df[[\"RBC Close\"]]"
   ]
  },
  {
   "cell_type": "code",
   "execution_count": 5,
   "metadata": {},
   "outputs": [],
   "source": [
    "x_train, x_test, y_train, y_test = train_test_split(df_input, df_output, test_size=0.3, random_state=42, shuffle= False)"
   ]
  },
  {
   "cell_type": "code",
   "execution_count": 6,
   "metadata": {},
   "outputs": [
    {
     "data": {
      "text/plain": [
       "(1894, 3)"
      ]
     },
     "execution_count": 6,
     "metadata": {},
     "output_type": "execute_result"
    }
   ],
   "source": [
    "x_train.shape"
   ]
  },
  {
   "cell_type": "code",
   "execution_count": 7,
   "metadata": {},
   "outputs": [
    {
     "data": {
      "text/plain": [
       "(812, 3)"
      ]
     },
     "execution_count": 7,
     "metadata": {},
     "output_type": "execute_result"
    }
   ],
   "source": [
    "x_test.shape"
   ]
  },
  {
   "cell_type": "code",
   "execution_count": 8,
   "metadata": {},
   "outputs": [
    {
     "data": {
      "text/html": [
       "<div>\n",
       "<style scoped>\n",
       "    .dataframe tbody tr th:only-of-type {\n",
       "        vertical-align: middle;\n",
       "    }\n",
       "\n",
       "    .dataframe tbody tr th {\n",
       "        vertical-align: top;\n",
       "    }\n",
       "\n",
       "    .dataframe thead th {\n",
       "        text-align: right;\n",
       "    }\n",
       "</style>\n",
       "<table border=\"1\" class=\"dataframe\">\n",
       "  <thead>\n",
       "    <tr style=\"text-align: right;\">\n",
       "      <th></th>\n",
       "      <th>High</th>\n",
       "      <th>Vix Close</th>\n",
       "      <th>RBC Close</th>\n",
       "    </tr>\n",
       "    <tr>\n",
       "      <th>Date</th>\n",
       "      <th></th>\n",
       "      <th></th>\n",
       "      <th></th>\n",
       "    </tr>\n",
       "  </thead>\n",
       "  <tbody>\n",
       "    <tr>\n",
       "      <th>2017-09-14</th>\n",
       "      <td>80.403829</td>\n",
       "      <td>10.440000</td>\n",
       "      <td>80.125435</td>\n",
       "    </tr>\n",
       "    <tr>\n",
       "      <th>2017-09-15</th>\n",
       "      <td>80.229825</td>\n",
       "      <td>10.170000</td>\n",
       "      <td>80.012329</td>\n",
       "    </tr>\n",
       "    <tr>\n",
       "      <th>2017-09-18</th>\n",
       "      <td>80.299427</td>\n",
       "      <td>10.150000</td>\n",
       "      <td>80.186325</td>\n",
       "    </tr>\n",
       "    <tr>\n",
       "      <th>2017-09-19</th>\n",
       "      <td>81.117197</td>\n",
       "      <td>10.180000</td>\n",
       "      <td>80.891006</td>\n",
       "    </tr>\n",
       "    <tr>\n",
       "      <th>2017-09-20</th>\n",
       "      <td>81.595710</td>\n",
       "      <td>9.780000</td>\n",
       "      <td>81.508713</td>\n",
       "    </tr>\n",
       "    <tr>\n",
       "      <th>...</th>\n",
       "      <td>...</td>\n",
       "      <td>...</td>\n",
       "      <td>...</td>\n",
       "    </tr>\n",
       "    <tr>\n",
       "      <th>2020-12-23</th>\n",
       "      <td>104.889999</td>\n",
       "      <td>23.309999</td>\n",
       "      <td>104.860001</td>\n",
       "    </tr>\n",
       "    <tr>\n",
       "      <th>2020-12-24</th>\n",
       "      <td>105.010002</td>\n",
       "      <td>21.530001</td>\n",
       "      <td>104.910004</td>\n",
       "    </tr>\n",
       "    <tr>\n",
       "      <th>2020-12-29</th>\n",
       "      <td>105.680000</td>\n",
       "      <td>23.080000</td>\n",
       "      <td>105.199997</td>\n",
       "    </tr>\n",
       "    <tr>\n",
       "      <th>2020-12-30</th>\n",
       "      <td>105.620003</td>\n",
       "      <td>22.770000</td>\n",
       "      <td>104.820000</td>\n",
       "    </tr>\n",
       "    <tr>\n",
       "      <th>2020-12-31</th>\n",
       "      <td>105.489998</td>\n",
       "      <td>22.750000</td>\n",
       "      <td>104.589996</td>\n",
       "    </tr>\n",
       "  </tbody>\n",
       "</table>\n",
       "<p>812 rows × 3 columns</p>\n",
       "</div>"
      ],
      "text/plain": [
       "                  High  Vix Close   RBC Close\n",
       "Date                                         \n",
       "2017-09-14   80.403829  10.440000   80.125435\n",
       "2017-09-15   80.229825  10.170000   80.012329\n",
       "2017-09-18   80.299427  10.150000   80.186325\n",
       "2017-09-19   81.117197  10.180000   80.891006\n",
       "2017-09-20   81.595710   9.780000   81.508713\n",
       "...                ...        ...         ...\n",
       "2020-12-23  104.889999  23.309999  104.860001\n",
       "2020-12-24  105.010002  21.530001  104.910004\n",
       "2020-12-29  105.680000  23.080000  105.199997\n",
       "2020-12-30  105.620003  22.770000  104.820000\n",
       "2020-12-31  105.489998  22.750000  104.589996\n",
       "\n",
       "[812 rows x 3 columns]"
      ]
     },
     "execution_count": 8,
     "metadata": {},
     "output_type": "execute_result"
    }
   ],
   "source": [
    "x_test"
   ]
  },
  {
   "cell_type": "code",
   "execution_count": 9,
   "metadata": {},
   "outputs": [],
   "source": [
    "x_train_scaler = MinMaxScaler()\n",
    "x_test_scaler = MinMaxScaler()\n",
    "\n",
    "y_train_scaler = MinMaxScaler()\n",
    "y_test_scaler = MinMaxScaler()\n",
    "\n",
    "x_train_scaler.fit(x_train)\n",
    "x_test_scaler.fit(x_test)\n",
    "\n",
    "y_train_scaler.fit(y_train)\n",
    "y_test_scaler.fit(y_test)\n",
    "\n",
    "x_train = x_train_scaler.transform(x_train)\n",
    "x_test = x_test_scaler.transform(x_test)\n",
    "\n",
    "y_train = y_train_scaler.transform(y_train)\n",
    "y_test = y_test_scaler.transform(y_test)\n"
   ]
  },
  {
   "cell_type": "code",
   "execution_count": 10,
   "metadata": {},
   "outputs": [],
   "source": [
    "length = 1\n",
    "batch = 44\n",
    "features = x_test.shape[1]\n",
    "\n",
    "train_generator = TimeseriesGenerator(x_train, y_train, length=length, sampling_rate=1, batch_size=batch)\n",
    "test_generator = TimeseriesGenerator(x_test, y_test, length=length, sampling_rate=1, batch_size=batch)"
   ]
  },
  {
   "cell_type": "code",
   "execution_count": 11,
   "metadata": {},
   "outputs": [],
   "source": [
    "from tensorflow.keras.models import Sequential\n",
    "from tensorflow.keras.layers import LSTM, Dense, Dropout "
   ]
  },
  {
   "cell_type": "code",
   "execution_count": 12,
   "metadata": {},
   "outputs": [],
   "source": [
    "model = Sequential()\n",
    "units = 64\n",
    "drop = 0.2\n",
    "\n",
    "#1st layer\n",
    "model.add(LSTM(units=units, return_sequences=True, input_shape=(length, features)))\n",
    "model.add(Dropout(drop))\n",
    "\n",
    "#2nd layer\n",
    "model.add(LSTM(units=units, return_sequences=True))\n",
    "model.add(Dropout(drop))\n",
    "\n",
    "#3rd layer\n",
    "model.add(LSTM(units=units))\n",
    "model.add(Dropout(drop))\n",
    "\n",
    "# Output layer\n",
    "model.add(Dense(1))"
   ]
  },
  {
   "cell_type": "code",
   "execution_count": 13,
   "metadata": {},
   "outputs": [
    {
     "name": "stdout",
     "output_type": "stream",
     "text": [
      "Model: \"sequential\"\n",
      "_________________________________________________________________\n",
      "Layer (type)                 Output Shape              Param #   \n",
      "=================================================================\n",
      "lstm (LSTM)                  (None, 1, 64)             17408     \n",
      "_________________________________________________________________\n",
      "dropout (Dropout)            (None, 1, 64)             0         \n",
      "_________________________________________________________________\n",
      "lstm_1 (LSTM)                (None, 1, 64)             33024     \n",
      "_________________________________________________________________\n",
      "dropout_1 (Dropout)          (None, 1, 64)             0         \n",
      "_________________________________________________________________\n",
      "lstm_2 (LSTM)                (None, 64)                33024     \n",
      "_________________________________________________________________\n",
      "dropout_2 (Dropout)          (None, 64)                0         \n",
      "_________________________________________________________________\n",
      "dense (Dense)                (None, 1)                 65        \n",
      "=================================================================\n",
      "Total params: 83,521\n",
      "Trainable params: 83,521\n",
      "Non-trainable params: 0\n",
      "_________________________________________________________________\n"
     ]
    }
   ],
   "source": [
    "model.summary()"
   ]
  },
  {
   "cell_type": "code",
   "execution_count": 14,
   "metadata": {},
   "outputs": [],
   "source": [
    "class ThresholdCallback(tf.keras.callbacks.Callback):\n",
    "    def __init__(self, threshold):\n",
    "        super(ThresholdCallback, self).__init__()\n",
    "        self.threshold = threshold\n",
    "\n",
    "    def on_epoch_end(self, epoch, logs=None): \n",
    "        val_loss = logs[\"val_loss\"]\n",
    "        if val_loss < self.threshold:\n",
    "            self.model.stop_training = True"
   ]
  },
  {
   "cell_type": "code",
   "execution_count": 27,
   "metadata": {},
   "outputs": [
    {
     "name": "stdout",
     "output_type": "stream",
     "text": [
      "Epoch 1/250\n",
      "44/44 [==============================] - 3s 73ms/step - loss: 9.3412e-04 - val_loss: 0.0022\n",
      "Epoch 2/250\n",
      "44/44 [==============================] - 3s 66ms/step - loss: 0.0021 - val_loss: 0.0033\n",
      "Epoch 3/250\n",
      "44/44 [==============================] - 3s 65ms/step - loss: 0.0011 - val_loss: 0.0036\n",
      "Epoch 4/250\n",
      "44/44 [==============================] - 3s 75ms/step - loss: 0.0011 - val_loss: 0.0018\n",
      "Epoch 5/250\n",
      "44/44 [==============================] - 3s 59ms/step - loss: 0.0018 - val_loss: 0.0018\n",
      "Epoch 6/250\n",
      "44/44 [==============================] - 3s 60ms/step - loss: 0.0016 - val_loss: 0.0012\n",
      "Epoch 7/250\n",
      "44/44 [==============================] - 3s 65ms/step - loss: 0.0018 - val_loss: 0.0046\n",
      "Epoch 8/250\n",
      "44/44 [==============================] - 3s 66ms/step - loss: 0.0011 - val_loss: 0.0018\n",
      "Epoch 9/250\n",
      "44/44 [==============================] - 3s 77ms/step - loss: 0.0019 - val_loss: 0.0015\n",
      "Epoch 10/250\n",
      "44/44 [==============================] - 3s 62ms/step - loss: 0.0024 - val_loss: 0.0064\n",
      "Epoch 11/250\n",
      "44/44 [==============================] - 3s 60ms/step - loss: 0.0010 - val_loss: 0.0012\n",
      "Epoch 12/250\n",
      "44/44 [==============================] - 2s 55ms/step - loss: 0.0014 - val_loss: 0.0019\n",
      "Epoch 13/250\n",
      "44/44 [==============================] - 3s 58ms/step - loss: 9.2836e-04 - val_loss: 0.0031\n",
      "Epoch 14/250\n",
      "44/44 [==============================] - 3s 61ms/step - loss: 9.9142e-04 - val_loss: 0.0011\n",
      "Epoch 15/250\n",
      "44/44 [==============================] - 4s 83ms/step - loss: 0.0014 - val_loss: 0.0025\n",
      "Epoch 16/250\n",
      "44/44 [==============================] - 3s 64ms/step - loss: 9.7419e-04 - val_loss: 0.0019\n",
      "Epoch 17/250\n",
      "44/44 [==============================] - 3s 60ms/step - loss: 0.0011 - val_loss: 0.0014\n",
      "Epoch 18/250\n",
      "44/44 [==============================] - 3s 59ms/step - loss: 0.0016 - val_loss: 0.0042\n",
      "Epoch 19/250\n",
      "44/44 [==============================] - 2s 55ms/step - loss: 0.0011 - val_loss: 0.0014\n",
      "Epoch 20/250\n",
      "44/44 [==============================] - 3s 63ms/step - loss: 0.0016 - val_loss: 0.0037\n",
      "Epoch 21/250\n",
      "44/44 [==============================] - 4s 86ms/step - loss: 0.0014 - val_loss: 0.0011\n"
     ]
    }
   ],
   "source": [
    "callback = tf.keras.callbacks.EarlyStopping(monitor='val_loss', patience=2, mode='min')\n",
    "\n",
    "earlystop = ThresholdCallback(threshold=0.0011)\n",
    "\n",
    "model.compile(optimizer=\"adam\", loss=\"mean_squared_error\")\n",
    "\n",
    "\n",
    "fit = model.fit_generator(train_generator, epochs = 250, validation_data=test_generator, callbacks=[earlystop],\n",
    "                         shuffle=False)"
   ]
  },
  {
   "cell_type": "code",
   "execution_count": 28,
   "metadata": {},
   "outputs": [
    {
     "data": {
      "text/plain": [
       "0.001058308424513885"
      ]
     },
     "execution_count": 28,
     "metadata": {},
     "output_type": "execute_result"
    }
   ],
   "source": [
    "model.evaluate_generator(test_generator, verbose=0)"
   ]
  },
  {
   "cell_type": "code",
   "execution_count": 29,
   "metadata": {},
   "outputs": [],
   "source": [
    "predictions = model.predict_generator(test_generator)"
   ]
  },
  {
   "cell_type": "code",
   "execution_count": 30,
   "metadata": {},
   "outputs": [],
   "source": [
    "predicted_prices = y_test_scaler.inverse_transform(predictions)\n",
    "real_prices = y_test_scaler.inverse_transform(y_test[1:].reshape(-1,1))"
   ]
  },
  {
   "cell_type": "code",
   "execution_count": 31,
   "metadata": {},
   "outputs": [
    {
     "data": {
      "text/html": [
       "<div>\n",
       "<style scoped>\n",
       "    .dataframe tbody tr th:only-of-type {\n",
       "        vertical-align: middle;\n",
       "    }\n",
       "\n",
       "    .dataframe tbody tr th {\n",
       "        vertical-align: top;\n",
       "    }\n",
       "\n",
       "    .dataframe thead th {\n",
       "        text-align: right;\n",
       "    }\n",
       "</style>\n",
       "<table border=\"1\" class=\"dataframe\">\n",
       "  <thead>\n",
       "    <tr style=\"text-align: right;\">\n",
       "      <th></th>\n",
       "      <th>Real</th>\n",
       "      <th>Predicted</th>\n",
       "    </tr>\n",
       "    <tr>\n",
       "      <th>Date</th>\n",
       "      <th></th>\n",
       "      <th></th>\n",
       "    </tr>\n",
       "  </thead>\n",
       "  <tbody>\n",
       "    <tr>\n",
       "      <th>2017-09-15</th>\n",
       "      <td>80.012329</td>\n",
       "      <td>80.821877</td>\n",
       "    </tr>\n",
       "    <tr>\n",
       "      <th>2017-09-18</th>\n",
       "      <td>80.186325</td>\n",
       "      <td>80.709389</td>\n",
       "    </tr>\n",
       "    <tr>\n",
       "      <th>2017-09-19</th>\n",
       "      <td>80.891006</td>\n",
       "      <td>80.807808</td>\n",
       "    </tr>\n",
       "    <tr>\n",
       "      <th>2017-09-20</th>\n",
       "      <td>81.508713</td>\n",
       "      <td>81.450859</td>\n",
       "    </tr>\n",
       "    <tr>\n",
       "      <th>2017-09-21</th>\n",
       "      <td>81.978500</td>\n",
       "      <td>81.927368</td>\n",
       "    </tr>\n",
       "    <tr>\n",
       "      <th>...</th>\n",
       "      <td>...</td>\n",
       "      <td>...</td>\n",
       "    </tr>\n",
       "    <tr>\n",
       "      <th>2020-12-23</th>\n",
       "      <td>104.860001</td>\n",
       "      <td>104.008293</td>\n",
       "    </tr>\n",
       "    <tr>\n",
       "      <th>2020-12-24</th>\n",
       "      <td>104.910004</td>\n",
       "      <td>105.026772</td>\n",
       "    </tr>\n",
       "    <tr>\n",
       "      <th>2020-12-29</th>\n",
       "      <td>105.199997</td>\n",
       "      <td>105.079605</td>\n",
       "    </tr>\n",
       "    <tr>\n",
       "      <th>2020-12-30</th>\n",
       "      <td>104.820000</td>\n",
       "      <td>105.565170</td>\n",
       "    </tr>\n",
       "    <tr>\n",
       "      <th>2020-12-31</th>\n",
       "      <td>104.589996</td>\n",
       "      <td>105.377625</td>\n",
       "    </tr>\n",
       "  </tbody>\n",
       "</table>\n",
       "<p>811 rows × 2 columns</p>\n",
       "</div>"
      ],
      "text/plain": [
       "                  Real   Predicted\n",
       "Date                              \n",
       "2017-09-15   80.012329   80.821877\n",
       "2017-09-18   80.186325   80.709389\n",
       "2017-09-19   80.891006   80.807808\n",
       "2017-09-20   81.508713   81.450859\n",
       "2017-09-21   81.978500   81.927368\n",
       "...                ...         ...\n",
       "2020-12-23  104.860001  104.008293\n",
       "2020-12-24  104.910004  105.026772\n",
       "2020-12-29  105.199997  105.079605\n",
       "2020-12-30  104.820000  105.565170\n",
       "2020-12-31  104.589996  105.377625\n",
       "\n",
       "[811 rows x 2 columns]"
      ]
     },
     "execution_count": 31,
     "metadata": {},
     "output_type": "execute_result"
    }
   ],
   "source": [
    "stocks = pd.DataFrame({\n",
    "    \"Real\": real_prices.ravel(),\n",
    "    \"Predicted\": predicted_prices.ravel()\n",
    "}, index = df.index[-len(real_prices): ]) \n",
    "stocks"
   ]
  },
  {
   "cell_type": "code",
   "execution_count": 32,
   "metadata": {},
   "outputs": [
    {
     "data": {
      "image/png": "[encoded data removed]",
      "text/plain": [
       "<Figure size 432x288 with 1 Axes>"
      ]
     },
     "metadata": {
      "needs_background": "light"
     },
     "output_type": "display_data"
    }
   ],
   "source": [
    "stocks.plot(title=f\"RBC Actual Vs. Predicted Prices MSE: 0.0010583\")\n",
    "plt.savefig('RBCDay.png')"
   ]
  },
  {
   "cell_type": "code",
   "execution_count": 21,
   "metadata": {},
   "outputs": [
    {
     "data": {
      "text/plain": [
       "0.7503247619704165"
      ]
     },
     "execution_count": 21,
     "metadata": {},
     "output_type": "execute_result"
    }
   ],
   "source": [
    "stocks[\"diff\"] = stocks[\"Real\"] - stocks[\"Predicted\"]\n",
    "stocks[\"diff\"].mean()"
   ]
  },
  {
   "cell_type": "code",
   "execution_count": 22,
   "metadata": {},
   "outputs": [],
   "source": [
    "model_json = model.to_json()\n",
    "file_path = Path(\"rbc_model_2.json\")\n",
    "with open(file_path, \"w\") as json_file:\n",
    "    json_file.write(model_json)"
   ]
  },
  {
   "cell_type": "code",
   "execution_count": null,
   "metadata": {},
   "outputs": [],
   "source": []
  }
 ],
 "metadata": {
  "kernelspec": {
   "display_name": "Python 3",
   "language": "python",
   "name": "python3"
  },
  "language_info": {
   "codemirror_mode": {
    "name": "ipython",
    "version": 3
   },
   "file_extension": ".py",
   "mimetype": "text/x-python",
   "name": "python",
   "nbconvert_exporter": "python",
   "pygments_lexer": "ipython3",
   "version": "3.7.9"
  }
 },
 "nbformat": 4,
 "nbformat_minor": 4
}
